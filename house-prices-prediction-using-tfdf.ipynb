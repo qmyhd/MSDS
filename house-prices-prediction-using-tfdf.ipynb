{
 "cells": [
  {
   "cell_type": "markdown",
   "id": "868f88af",
   "metadata": {
    "_cell_guid": "1461850b-7459-4610-957a-3482a7509e59",
    "_uuid": "f1fee7b6-dd9c-41c0-800b-30697622ab4e",
    "collapsed": false,
    "execution": {
     "iopub.execute_input": "2024-11-03T23:59:19.244842Z",
     "iopub.status.busy": "2024-11-03T23:59:19.244144Z",
     "iopub.status.idle": "2024-11-03T23:59:19.250862Z",
     "shell.execute_reply": "2024-11-03T23:59:19.249526Z",
     "shell.execute_reply.started": "2024-11-03T23:59:19.244779Z"
    },
    "id": "5v5mm4amQRrm",
    "jupyter": {
     "outputs_hidden": false
    },
    "papermill": {
     "duration": 0.008532,
     "end_time": "2024-11-09T04:31:56.722582",
     "exception": false,
     "start_time": "2024-11-09T04:31:56.714050",
     "status": "completed"
    },
    "tags": []
   },
   "source": [
    "# House Prices Prediction using TensorFlow Decision Forests"
   ]
  },
  {
   "cell_type": "markdown",
   "id": "d654c7a8",
   "metadata": {
    "_cell_guid": "4176fce7-fbd8-4419-bf9e-ed7107ae71f8",
    "_uuid": "a4c0095e-06c3-4e9d-be7f-1531b47f0f37",
    "collapsed": false,
    "execution": {
     "iopub.execute_input": "2024-11-01T04:44:31.752482Z",
     "iopub.status.busy": "2024-11-01T04:44:31.751203Z",
     "iopub.status.idle": "2024-11-01T04:44:31.757614Z",
     "shell.execute_reply": "2024-11-01T04:44:31.756142Z",
     "shell.execute_reply.started": "2024-11-01T04:44:31.752433Z"
    },
    "id": "FVOXAyXl3-fA",
    "jupyter": {
     "outputs_hidden": false
    },
    "papermill": {
     "duration": 0.007407,
     "end_time": "2024-11-09T04:31:56.738269",
     "exception": false,
     "start_time": "2024-11-09T04:31:56.730862",
     "status": "completed"
    },
    "tags": []
   },
   "source": [
    "## Import the library"
   ]
  },
  {
   "cell_type": "code",
   "execution_count": 1,
   "id": "ed6fac26",
   "metadata": {
    "_cell_guid": "91b940cd-aa79-40a9-9637-11004441dee8",
    "_uuid": "d15269a8-4169-44b1-b1fa-df55510d4b0b",
    "collapsed": false,
    "execution": {
     "iopub.execute_input": "2024-11-09T04:31:56.755499Z",
     "iopub.status.busy": "2024-11-09T04:31:56.755080Z",
     "iopub.status.idle": "2024-11-09T04:32:10.161365Z",
     "shell.execute_reply": "2024-11-09T04:32:10.159766Z"
    },
    "id": "IGmyjJJatzBZ",
    "jupyter": {
     "outputs_hidden": false
    },
    "papermill": {
     "duration": 13.419151,
     "end_time": "2024-11-09T04:32:10.164844",
     "exception": false,
     "start_time": "2024-11-09T04:31:56.745693",
     "status": "completed"
    },
    "tags": []
   },
   "outputs": [],
   "source": [
    "import tensorflow as tf\n",
    "import tensorflow_decision_forests as tfdf\n",
    "import pandas as pd\n",
    "import seaborn as sns\n",
    "import matplotlib.pyplot as plt\n",
    "import numpy as np\n",
    "from sklearn.model_selection import train_test_split\n",
    "\n",
    "\n",
    "\n",
    "# Comment this if the data visualisations doesn't work on your side\n",
    "%matplotlib inline"
   ]
  },
  {
   "cell_type": "markdown",
   "id": "c74c0cf2",
   "metadata": {
    "_cell_guid": "1b4debd5-7b46-4e80-8221-01d4fb1f9ea4",
    "_uuid": "4f740d34-5483-4934-9cb3-c07c14456025",
    "collapsed": false,
    "id": "-3vxMmCPvqpf",
    "jupyter": {
     "outputs_hidden": false
    },
    "papermill": {
     "duration": 0.007511,
     "end_time": "2024-11-09T04:32:10.180501",
     "exception": false,
     "start_time": "2024-11-09T04:32:10.172990",
     "status": "completed"
    },
    "tags": []
   },
   "source": [
    "## Load the dataset"
   ]
  },
  {
   "cell_type": "code",
   "execution_count": 2,
   "id": "3299a789",
   "metadata": {
    "_cell_guid": "cca4d28e-e323-4430-8ee7-8ea239cfb022",
    "_uuid": "d864f83e-fcdd-4d7a-9b8d-cd912971c64f",
    "collapsed": false,
    "execution": {
     "iopub.execute_input": "2024-11-09T04:32:10.199154Z",
     "iopub.status.busy": "2024-11-09T04:32:10.198428Z",
     "iopub.status.idle": "2024-11-09T04:32:10.265585Z",
     "shell.execute_reply": "2024-11-09T04:32:10.263543Z"
    },
    "id": "JVMPH_IDOBH2",
    "jupyter": {
     "outputs_hidden": false
    },
    "papermill": {
     "duration": 0.081311,
     "end_time": "2024-11-09T04:32:10.269910",
     "exception": false,
     "start_time": "2024-11-09T04:32:10.188599",
     "status": "completed"
    },
    "tags": []
   },
   "outputs": [
    {
     "name": "stdout",
     "output_type": "stream",
     "text": [
      "Full train dataset shape is (1460, 81)\n"
     ]
    }
   ],
   "source": [
    "train_file_path = \"../input/house-prices-advanced-regression-techniques/train.csv\"\n",
    "dataset_df = pd.read_csv(train_file_path)\n",
    "print(\"Full train dataset shape is {}\".format(dataset_df.shape))"
   ]
  },
  {
   "cell_type": "markdown",
   "id": "afb3e8e9",
   "metadata": {
    "_cell_guid": "7f2f8e39-a44c-4c84-8b16-f8951f423353",
    "_uuid": "814bca29-0b49-464d-9be9-ef8a9b1e3a51",
    "collapsed": false,
    "id": "mTnx8h9i416m",
    "jupyter": {
     "outputs_hidden": false
    },
    "papermill": {
     "duration": 0.007332,
     "end_time": "2024-11-09T04:32:10.284798",
     "exception": false,
     "start_time": "2024-11-09T04:32:10.277466",
     "status": "completed"
    },
    "tags": []
   },
   "source": [
    "The data is composed of 81 columns and 1460 entries. We can see all 81 dimensions of our dataset by printing out the first 3 entries using the following code:"
   ]
  },
  {
   "cell_type": "code",
   "execution_count": 3,
   "id": "c1c48085",
   "metadata": {
    "_cell_guid": "d42146f7-fb9c-4368-975d-90af90bcd4d5",
    "_uuid": "a74b7cd7-6796-4e2f-828a-9e3059c7bbcc",
    "collapsed": false,
    "execution": {
     "iopub.execute_input": "2024-11-09T04:32:10.304073Z",
     "iopub.status.busy": "2024-11-09T04:32:10.303599Z",
     "iopub.status.idle": "2024-11-09T04:32:10.357151Z",
     "shell.execute_reply": "2024-11-09T04:32:10.355733Z"
    },
    "id": "kgbP5R6X416m",
    "jupyter": {
     "outputs_hidden": false
    },
    "papermill": {
     "duration": 0.065534,
     "end_time": "2024-11-09T04:32:10.359948",
     "exception": false,
     "start_time": "2024-11-09T04:32:10.294414",
     "status": "completed"
    },
    "tags": []
   },
   "outputs": [
    {
     "data": {
      "text/html": [
       "<div>\n",
       "<style scoped>\n",
       "    .dataframe tbody tr th:only-of-type {\n",
       "        vertical-align: middle;\n",
       "    }\n",
       "\n",
       "    .dataframe tbody tr th {\n",
       "        vertical-align: top;\n",
       "    }\n",
       "\n",
       "    .dataframe thead th {\n",
       "        text-align: right;\n",
       "    }\n",
       "</style>\n",
       "<table border=\"1\" class=\"dataframe\">\n",
       "  <thead>\n",
       "    <tr style=\"text-align: right;\">\n",
       "      <th></th>\n",
       "      <th>Id</th>\n",
       "      <th>MSSubClass</th>\n",
       "      <th>MSZoning</th>\n",
       "      <th>LotFrontage</th>\n",
       "      <th>LotArea</th>\n",
       "      <th>Street</th>\n",
       "      <th>Alley</th>\n",
       "      <th>LotShape</th>\n",
       "      <th>LandContour</th>\n",
       "      <th>Utilities</th>\n",
       "      <th>...</th>\n",
       "      <th>PoolArea</th>\n",
       "      <th>PoolQC</th>\n",
       "      <th>Fence</th>\n",
       "      <th>MiscFeature</th>\n",
       "      <th>MiscVal</th>\n",
       "      <th>MoSold</th>\n",
       "      <th>YrSold</th>\n",
       "      <th>SaleType</th>\n",
       "      <th>SaleCondition</th>\n",
       "      <th>SalePrice</th>\n",
       "    </tr>\n",
       "  </thead>\n",
       "  <tbody>\n",
       "    <tr>\n",
       "      <th>0</th>\n",
       "      <td>1</td>\n",
       "      <td>60</td>\n",
       "      <td>RL</td>\n",
       "      <td>65.0</td>\n",
       "      <td>8450</td>\n",
       "      <td>Pave</td>\n",
       "      <td>NaN</td>\n",
       "      <td>Reg</td>\n",
       "      <td>Lvl</td>\n",
       "      <td>AllPub</td>\n",
       "      <td>...</td>\n",
       "      <td>0</td>\n",
       "      <td>NaN</td>\n",
       "      <td>NaN</td>\n",
       "      <td>NaN</td>\n",
       "      <td>0</td>\n",
       "      <td>2</td>\n",
       "      <td>2008</td>\n",
       "      <td>WD</td>\n",
       "      <td>Normal</td>\n",
       "      <td>208500</td>\n",
       "    </tr>\n",
       "    <tr>\n",
       "      <th>1</th>\n",
       "      <td>2</td>\n",
       "      <td>20</td>\n",
       "      <td>RL</td>\n",
       "      <td>80.0</td>\n",
       "      <td>9600</td>\n",
       "      <td>Pave</td>\n",
       "      <td>NaN</td>\n",
       "      <td>Reg</td>\n",
       "      <td>Lvl</td>\n",
       "      <td>AllPub</td>\n",
       "      <td>...</td>\n",
       "      <td>0</td>\n",
       "      <td>NaN</td>\n",
       "      <td>NaN</td>\n",
       "      <td>NaN</td>\n",
       "      <td>0</td>\n",
       "      <td>5</td>\n",
       "      <td>2007</td>\n",
       "      <td>WD</td>\n",
       "      <td>Normal</td>\n",
       "      <td>181500</td>\n",
       "    </tr>\n",
       "    <tr>\n",
       "      <th>2</th>\n",
       "      <td>3</td>\n",
       "      <td>60</td>\n",
       "      <td>RL</td>\n",
       "      <td>68.0</td>\n",
       "      <td>11250</td>\n",
       "      <td>Pave</td>\n",
       "      <td>NaN</td>\n",
       "      <td>IR1</td>\n",
       "      <td>Lvl</td>\n",
       "      <td>AllPub</td>\n",
       "      <td>...</td>\n",
       "      <td>0</td>\n",
       "      <td>NaN</td>\n",
       "      <td>NaN</td>\n",
       "      <td>NaN</td>\n",
       "      <td>0</td>\n",
       "      <td>9</td>\n",
       "      <td>2008</td>\n",
       "      <td>WD</td>\n",
       "      <td>Normal</td>\n",
       "      <td>223500</td>\n",
       "    </tr>\n",
       "  </tbody>\n",
       "</table>\n",
       "<p>3 rows × 81 columns</p>\n",
       "</div>"
      ],
      "text/plain": [
       "   Id  MSSubClass MSZoning  LotFrontage  LotArea Street Alley LotShape  \\\n",
       "0   1          60       RL         65.0     8450   Pave   NaN      Reg   \n",
       "1   2          20       RL         80.0     9600   Pave   NaN      Reg   \n",
       "2   3          60       RL         68.0    11250   Pave   NaN      IR1   \n",
       "\n",
       "  LandContour Utilities  ... PoolArea PoolQC Fence MiscFeature MiscVal MoSold  \\\n",
       "0         Lvl    AllPub  ...        0    NaN   NaN         NaN       0      2   \n",
       "1         Lvl    AllPub  ...        0    NaN   NaN         NaN       0      5   \n",
       "2         Lvl    AllPub  ...        0    NaN   NaN         NaN       0      9   \n",
       "\n",
       "  YrSold  SaleType  SaleCondition  SalePrice  \n",
       "0   2008        WD         Normal     208500  \n",
       "1   2007        WD         Normal     181500  \n",
       "2   2008        WD         Normal     223500  \n",
       "\n",
       "[3 rows x 81 columns]"
      ]
     },
     "execution_count": 3,
     "metadata": {},
     "output_type": "execute_result"
    }
   ],
   "source": [
    "dataset_df.head(3)"
   ]
  },
  {
   "cell_type": "markdown",
   "id": "78ff7b0d",
   "metadata": {
    "_cell_guid": "de09a3e1-b3d0-45f3-8e8c-61813c2f8cde",
    "_uuid": "19b0d8ff-ee87-4b13-9aa6-d8acb7601d17",
    "collapsed": false,
    "id": "ulu8XdxO416n",
    "jupyter": {
     "outputs_hidden": false
    },
    "papermill": {
     "duration": 0.009834,
     "end_time": "2024-11-09T04:32:10.377580",
     "exception": false,
     "start_time": "2024-11-09T04:32:10.367746",
     "status": "completed"
    },
    "tags": []
   },
   "source": [
    "* There are 79 feature columns. Using these features your model has to predict the house sale price indicated by the label column named `SalePrice`."
   ]
  },
  {
   "cell_type": "markdown",
   "id": "b026691c",
   "metadata": {
    "_cell_guid": "2ed142c8-0681-48c6-9fd1-f67075bcdd90",
    "_uuid": "dead3501-ed3a-4d33-bf16-47e6e57327c3",
    "collapsed": false,
    "id": "n82wWtvL416n",
    "jupyter": {
     "outputs_hidden": false
    },
    "papermill": {
     "duration": 0.007755,
     "end_time": "2024-11-09T04:32:10.393204",
     "exception": false,
     "start_time": "2024-11-09T04:32:10.385449",
     "status": "completed"
    },
    "tags": []
   },
   "source": [
    "We will drop the `Id` column as it is not necessary for model training."
   ]
  },
  {
   "cell_type": "code",
   "execution_count": 4,
   "id": "c5f2362a",
   "metadata": {
    "_cell_guid": "1c9b6f6c-2ddd-4dad-b6f9-d06675cf64c4",
    "_uuid": "fe3a1e87-82d5-41f6-b1b3-f53e56bf5d5e",
    "collapsed": false,
    "execution": {
     "iopub.execute_input": "2024-11-09T04:32:10.412417Z",
     "iopub.status.busy": "2024-11-09T04:32:10.411973Z",
     "iopub.status.idle": "2024-11-09T04:32:10.445058Z",
     "shell.execute_reply": "2024-11-09T04:32:10.443736Z"
    },
    "id": "0lItmbYS416n",
    "jupyter": {
     "outputs_hidden": false
    },
    "papermill": {
     "duration": 0.046511,
     "end_time": "2024-11-09T04:32:10.447766",
     "exception": false,
     "start_time": "2024-11-09T04:32:10.401255",
     "status": "completed"
    },
    "tags": []
   },
   "outputs": [
    {
     "data": {
      "text/html": [
       "<div>\n",
       "<style scoped>\n",
       "    .dataframe tbody tr th:only-of-type {\n",
       "        vertical-align: middle;\n",
       "    }\n",
       "\n",
       "    .dataframe tbody tr th {\n",
       "        vertical-align: top;\n",
       "    }\n",
       "\n",
       "    .dataframe thead th {\n",
       "        text-align: right;\n",
       "    }\n",
       "</style>\n",
       "<table border=\"1\" class=\"dataframe\">\n",
       "  <thead>\n",
       "    <tr style=\"text-align: right;\">\n",
       "      <th></th>\n",
       "      <th>MSSubClass</th>\n",
       "      <th>MSZoning</th>\n",
       "      <th>LotFrontage</th>\n",
       "      <th>LotArea</th>\n",
       "      <th>Street</th>\n",
       "      <th>Alley</th>\n",
       "      <th>LotShape</th>\n",
       "      <th>LandContour</th>\n",
       "      <th>Utilities</th>\n",
       "      <th>LotConfig</th>\n",
       "      <th>...</th>\n",
       "      <th>PoolArea</th>\n",
       "      <th>PoolQC</th>\n",
       "      <th>Fence</th>\n",
       "      <th>MiscFeature</th>\n",
       "      <th>MiscVal</th>\n",
       "      <th>MoSold</th>\n",
       "      <th>YrSold</th>\n",
       "      <th>SaleType</th>\n",
       "      <th>SaleCondition</th>\n",
       "      <th>SalePrice</th>\n",
       "    </tr>\n",
       "  </thead>\n",
       "  <tbody>\n",
       "    <tr>\n",
       "      <th>0</th>\n",
       "      <td>60</td>\n",
       "      <td>RL</td>\n",
       "      <td>65.0</td>\n",
       "      <td>8450</td>\n",
       "      <td>Pave</td>\n",
       "      <td>NaN</td>\n",
       "      <td>Reg</td>\n",
       "      <td>Lvl</td>\n",
       "      <td>AllPub</td>\n",
       "      <td>Inside</td>\n",
       "      <td>...</td>\n",
       "      <td>0</td>\n",
       "      <td>NaN</td>\n",
       "      <td>NaN</td>\n",
       "      <td>NaN</td>\n",
       "      <td>0</td>\n",
       "      <td>2</td>\n",
       "      <td>2008</td>\n",
       "      <td>WD</td>\n",
       "      <td>Normal</td>\n",
       "      <td>208500</td>\n",
       "    </tr>\n",
       "    <tr>\n",
       "      <th>1</th>\n",
       "      <td>20</td>\n",
       "      <td>RL</td>\n",
       "      <td>80.0</td>\n",
       "      <td>9600</td>\n",
       "      <td>Pave</td>\n",
       "      <td>NaN</td>\n",
       "      <td>Reg</td>\n",
       "      <td>Lvl</td>\n",
       "      <td>AllPub</td>\n",
       "      <td>FR2</td>\n",
       "      <td>...</td>\n",
       "      <td>0</td>\n",
       "      <td>NaN</td>\n",
       "      <td>NaN</td>\n",
       "      <td>NaN</td>\n",
       "      <td>0</td>\n",
       "      <td>5</td>\n",
       "      <td>2007</td>\n",
       "      <td>WD</td>\n",
       "      <td>Normal</td>\n",
       "      <td>181500</td>\n",
       "    </tr>\n",
       "    <tr>\n",
       "      <th>2</th>\n",
       "      <td>60</td>\n",
       "      <td>RL</td>\n",
       "      <td>68.0</td>\n",
       "      <td>11250</td>\n",
       "      <td>Pave</td>\n",
       "      <td>NaN</td>\n",
       "      <td>IR1</td>\n",
       "      <td>Lvl</td>\n",
       "      <td>AllPub</td>\n",
       "      <td>Inside</td>\n",
       "      <td>...</td>\n",
       "      <td>0</td>\n",
       "      <td>NaN</td>\n",
       "      <td>NaN</td>\n",
       "      <td>NaN</td>\n",
       "      <td>0</td>\n",
       "      <td>9</td>\n",
       "      <td>2008</td>\n",
       "      <td>WD</td>\n",
       "      <td>Normal</td>\n",
       "      <td>223500</td>\n",
       "    </tr>\n",
       "  </tbody>\n",
       "</table>\n",
       "<p>3 rows × 80 columns</p>\n",
       "</div>"
      ],
      "text/plain": [
       "   MSSubClass MSZoning  LotFrontage  LotArea Street Alley LotShape  \\\n",
       "0          60       RL         65.0     8450   Pave   NaN      Reg   \n",
       "1          20       RL         80.0     9600   Pave   NaN      Reg   \n",
       "2          60       RL         68.0    11250   Pave   NaN      IR1   \n",
       "\n",
       "  LandContour Utilities LotConfig  ... PoolArea PoolQC Fence MiscFeature  \\\n",
       "0         Lvl    AllPub    Inside  ...        0    NaN   NaN         NaN   \n",
       "1         Lvl    AllPub       FR2  ...        0    NaN   NaN         NaN   \n",
       "2         Lvl    AllPub    Inside  ...        0    NaN   NaN         NaN   \n",
       "\n",
       "  MiscVal MoSold  YrSold  SaleType  SaleCondition  SalePrice  \n",
       "0       0      2    2008        WD         Normal     208500  \n",
       "1       0      5    2007        WD         Normal     181500  \n",
       "2       0      9    2008        WD         Normal     223500  \n",
       "\n",
       "[3 rows x 80 columns]"
      ]
     },
     "execution_count": 4,
     "metadata": {},
     "output_type": "execute_result"
    }
   ],
   "source": [
    "dataset_df = dataset_df.drop('Id', axis=1)\n",
    "dataset_df.head(3)"
   ]
  },
  {
   "cell_type": "markdown",
   "id": "d6970f28",
   "metadata": {
    "_cell_guid": "9dded38a-71e8-4706-947e-0336ba1ae6ee",
    "_uuid": "0b5099c4-39e4-4c64-a293-a996ea92a176",
    "collapsed": false,
    "id": "QA_v408l416n",
    "jupyter": {
     "outputs_hidden": false
    },
    "papermill": {
     "duration": 0.007778,
     "end_time": "2024-11-09T04:32:10.463753",
     "exception": false,
     "start_time": "2024-11-09T04:32:10.455975",
     "status": "completed"
    },
    "tags": []
   },
   "source": [
    "We can inspect the types of feature columns using the following code:"
   ]
  },
  {
   "cell_type": "markdown",
   "id": "0b6040be",
   "metadata": {
    "_cell_guid": "68b13aa8-899e-4d5b-b977-56b5bed3ab58",
    "_uuid": "c1e201ac-7f88-49f6-9560-81bdd516f922",
    "collapsed": false,
    "id": "PxdZCHvk416o",
    "jupyter": {
     "outputs_hidden": false
    },
    "papermill": {
     "duration": 0.008383,
     "end_time": "2024-11-09T04:32:10.481267",
     "exception": false,
     "start_time": "2024-11-09T04:32:10.472884",
     "status": "completed"
    },
    "tags": []
   },
   "source": [
    "## House Price Distribution\n",
    "\n",
    "Now let us take a look at how the house prices are distributed."
   ]
  },
  {
   "cell_type": "code",
   "execution_count": 5,
   "id": "2d7f53bb",
   "metadata": {
    "_cell_guid": "e0b9ef4d-3cfd-4752-8b7f-a2162fef95f2",
    "_uuid": "51642834-29d4-4baa-aebe-2e61e7b937dc",
    "collapsed": false,
    "execution": {
     "iopub.execute_input": "2024-11-09T04:32:10.499759Z",
     "iopub.status.busy": "2024-11-09T04:32:10.499268Z",
     "iopub.status.idle": "2024-11-09T04:32:11.003905Z",
     "shell.execute_reply": "2024-11-09T04:32:11.002357Z"
    },
    "id": "qROZWZyE416o",
    "jupyter": {
     "outputs_hidden": false
    },
    "papermill": {
     "duration": 0.517931,
     "end_time": "2024-11-09T04:32:11.007648",
     "exception": false,
     "start_time": "2024-11-09T04:32:10.489717",
     "status": "completed"
    },
    "tags": []
   },
   "outputs": [
    {
     "name": "stdout",
     "output_type": "stream",
     "text": [
      "count      1460.000000\n",
      "mean     180921.195890\n",
      "std       79442.502883\n",
      "min       34900.000000\n",
      "25%      129975.000000\n",
      "50%      163000.000000\n",
      "75%      214000.000000\n",
      "max      755000.000000\n",
      "Name: SalePrice, dtype: float64\n"
     ]
    },
    {
     "data": {
      "image/png": "[encoded data removed]",
      "text/plain": [
       "<Figure size 900x800 with 1 Axes>"
      ]
     },
     "metadata": {},
     "output_type": "display_data"
    }
   ],
   "source": [
    "print(dataset_df['SalePrice'].describe())\n",
    "plt.figure(figsize=(9, 8))\n",
    "sns.histplot(dataset_df['SalePrice'], color='g', bins=100, kde=True)\n",
    "\n",
    "plt.show()"
   ]
  },
  {
   "cell_type": "markdown",
   "id": "54899264",
   "metadata": {
    "_cell_guid": "247ee3a8-3415-4f26-8102-342245073174",
    "_uuid": "357eac7b-3929-4275-8abd-2e02d75d9810",
    "collapsed": false,
    "id": "tKnn1nR-416o",
    "jupyter": {
     "outputs_hidden": false
    },
    "papermill": {
     "duration": 0.00838,
     "end_time": "2024-11-09T04:32:11.025835",
     "exception": false,
     "start_time": "2024-11-09T04:32:11.017455",
     "status": "completed"
    },
    "tags": []
   },
   "source": [
    "## Numerical data distribution\n",
    "\n",
    "We will now take a look at how the numerical features are distributed. In order to do this, let us first list all the types of data from our dataset and select only the numerical ones."
   ]
  },
  {
   "cell_type": "code",
   "execution_count": 6,
   "id": "c631df95",
   "metadata": {
    "_cell_guid": "1d6ec778-4b3f-42d4-886a-1c61b170d16a",
    "_uuid": "a18b9994-7e2b-43b7-8134-0591934a7270",
    "collapsed": false,
    "execution": {
     "iopub.execute_input": "2024-11-09T04:32:11.045699Z",
     "iopub.status.busy": "2024-11-09T04:32:11.045262Z",
     "iopub.status.idle": "2024-11-09T04:32:11.072061Z",
     "shell.execute_reply": "2024-11-09T04:32:11.070847Z"
    },
    "id": "Vg2PQvfb416o",
    "jupyter": {
     "outputs_hidden": false
    },
    "papermill": {
     "duration": 0.040079,
     "end_time": "2024-11-09T04:32:11.074535",
     "exception": false,
     "start_time": "2024-11-09T04:32:11.034456",
     "status": "completed"
    },
    "tags": []
   },
   "outputs": [
    {
     "data": {
      "text/html": [
       "<div>\n",
       "<style scoped>\n",
       "    .dataframe tbody tr th:only-of-type {\n",
       "        vertical-align: middle;\n",
       "    }\n",
       "\n",
       "    .dataframe tbody tr th {\n",
       "        vertical-align: top;\n",
       "    }\n",
       "\n",
       "    .dataframe thead th {\n",
       "        text-align: right;\n",
       "    }\n",
       "</style>\n",
       "<table border=\"1\" class=\"dataframe\">\n",
       "  <thead>\n",
       "    <tr style=\"text-align: right;\">\n",
       "      <th></th>\n",
       "      <th>MSSubClass</th>\n",
       "      <th>LotFrontage</th>\n",
       "      <th>LotArea</th>\n",
       "      <th>OverallQual</th>\n",
       "      <th>OverallCond</th>\n",
       "      <th>YearBuilt</th>\n",
       "      <th>YearRemodAdd</th>\n",
       "      <th>MasVnrArea</th>\n",
       "      <th>BsmtFinSF1</th>\n",
       "      <th>BsmtFinSF2</th>\n",
       "      <th>...</th>\n",
       "      <th>WoodDeckSF</th>\n",
       "      <th>OpenPorchSF</th>\n",
       "      <th>EnclosedPorch</th>\n",
       "      <th>3SsnPorch</th>\n",
       "      <th>ScreenPorch</th>\n",
       "      <th>PoolArea</th>\n",
       "      <th>MiscVal</th>\n",
       "      <th>MoSold</th>\n",
       "      <th>YrSold</th>\n",
       "      <th>SalePrice</th>\n",
       "    </tr>\n",
       "  </thead>\n",
       "  <tbody>\n",
       "    <tr>\n",
       "      <th>0</th>\n",
       "      <td>60</td>\n",
       "      <td>65.0</td>\n",
       "      <td>8450</td>\n",
       "      <td>7</td>\n",
       "      <td>5</td>\n",
       "      <td>2003</td>\n",
       "      <td>2003</td>\n",
       "      <td>196.0</td>\n",
       "      <td>706</td>\n",
       "      <td>0</td>\n",
       "      <td>...</td>\n",
       "      <td>0</td>\n",
       "      <td>61</td>\n",
       "      <td>0</td>\n",
       "      <td>0</td>\n",
       "      <td>0</td>\n",
       "      <td>0</td>\n",
       "      <td>0</td>\n",
       "      <td>2</td>\n",
       "      <td>2008</td>\n",
       "      <td>208500</td>\n",
       "    </tr>\n",
       "    <tr>\n",
       "      <th>1</th>\n",
       "      <td>20</td>\n",
       "      <td>80.0</td>\n",
       "      <td>9600</td>\n",
       "      <td>6</td>\n",
       "      <td>8</td>\n",
       "      <td>1976</td>\n",
       "      <td>1976</td>\n",
       "      <td>0.0</td>\n",
       "      <td>978</td>\n",
       "      <td>0</td>\n",
       "      <td>...</td>\n",
       "      <td>298</td>\n",
       "      <td>0</td>\n",
       "      <td>0</td>\n",
       "      <td>0</td>\n",
       "      <td>0</td>\n",
       "      <td>0</td>\n",
       "      <td>0</td>\n",
       "      <td>5</td>\n",
       "      <td>2007</td>\n",
       "      <td>181500</td>\n",
       "    </tr>\n",
       "    <tr>\n",
       "      <th>2</th>\n",
       "      <td>60</td>\n",
       "      <td>68.0</td>\n",
       "      <td>11250</td>\n",
       "      <td>7</td>\n",
       "      <td>5</td>\n",
       "      <td>2001</td>\n",
       "      <td>2002</td>\n",
       "      <td>162.0</td>\n",
       "      <td>486</td>\n",
       "      <td>0</td>\n",
       "      <td>...</td>\n",
       "      <td>0</td>\n",
       "      <td>42</td>\n",
       "      <td>0</td>\n",
       "      <td>0</td>\n",
       "      <td>0</td>\n",
       "      <td>0</td>\n",
       "      <td>0</td>\n",
       "      <td>9</td>\n",
       "      <td>2008</td>\n",
       "      <td>223500</td>\n",
       "    </tr>\n",
       "    <tr>\n",
       "      <th>3</th>\n",
       "      <td>70</td>\n",
       "      <td>60.0</td>\n",
       "      <td>9550</td>\n",
       "      <td>7</td>\n",
       "      <td>5</td>\n",
       "      <td>1915</td>\n",
       "      <td>1970</td>\n",
       "      <td>0.0</td>\n",
       "      <td>216</td>\n",
       "      <td>0</td>\n",
       "      <td>...</td>\n",
       "      <td>0</td>\n",
       "      <td>35</td>\n",
       "      <td>272</td>\n",
       "      <td>0</td>\n",
       "      <td>0</td>\n",
       "      <td>0</td>\n",
       "      <td>0</td>\n",
       "      <td>2</td>\n",
       "      <td>2006</td>\n",
       "      <td>140000</td>\n",
       "    </tr>\n",
       "    <tr>\n",
       "      <th>4</th>\n",
       "      <td>60</td>\n",
       "      <td>84.0</td>\n",
       "      <td>14260</td>\n",
       "      <td>8</td>\n",
       "      <td>5</td>\n",
       "      <td>2000</td>\n",
       "      <td>2000</td>\n",
       "      <td>350.0</td>\n",
       "      <td>655</td>\n",
       "      <td>0</td>\n",
       "      <td>...</td>\n",
       "      <td>192</td>\n",
       "      <td>84</td>\n",
       "      <td>0</td>\n",
       "      <td>0</td>\n",
       "      <td>0</td>\n",
       "      <td>0</td>\n",
       "      <td>0</td>\n",
       "      <td>12</td>\n",
       "      <td>2008</td>\n",
       "      <td>250000</td>\n",
       "    </tr>\n",
       "  </tbody>\n",
       "</table>\n",
       "<p>5 rows × 37 columns</p>\n",
       "</div>"
      ],
      "text/plain": [
       "   MSSubClass  LotFrontage  LotArea  OverallQual  OverallCond  YearBuilt  \\\n",
       "0          60         65.0     8450            7            5       2003   \n",
       "1          20         80.0     9600            6            8       1976   \n",
       "2          60         68.0    11250            7            5       2001   \n",
       "3          70         60.0     9550            7            5       1915   \n",
       "4          60         84.0    14260            8            5       2000   \n",
       "\n",
       "   YearRemodAdd  MasVnrArea  BsmtFinSF1  BsmtFinSF2  ...  WoodDeckSF  \\\n",
       "0          2003       196.0         706           0  ...           0   \n",
       "1          1976         0.0         978           0  ...         298   \n",
       "2          2002       162.0         486           0  ...           0   \n",
       "3          1970         0.0         216           0  ...           0   \n",
       "4          2000       350.0         655           0  ...         192   \n",
       "\n",
       "   OpenPorchSF  EnclosedPorch  3SsnPorch  ScreenPorch  PoolArea  MiscVal  \\\n",
       "0           61              0          0            0         0        0   \n",
       "1            0              0          0            0         0        0   \n",
       "2           42              0          0            0         0        0   \n",
       "3           35            272          0            0         0        0   \n",
       "4           84              0          0            0         0        0   \n",
       "\n",
       "   MoSold  YrSold  SalePrice  \n",
       "0       2    2008     208500  \n",
       "1       5    2007     181500  \n",
       "2       9    2008     223500  \n",
       "3       2    2006     140000  \n",
       "4      12    2008     250000  \n",
       "\n",
       "[5 rows x 37 columns]"
      ]
     },
     "execution_count": 6,
     "metadata": {},
     "output_type": "execute_result"
    }
   ],
   "source": [
    "df_num = dataset_df.select_dtypes(include = ['float64', 'int64'])\n",
    "df_num.head()"
   ]
  },
  {
   "cell_type": "markdown",
   "id": "07681501",
   "metadata": {
    "_cell_guid": "10c46fef-ba9d-4eeb-a346-207c9424cbb0",
    "_uuid": "ce243614-1616-4bda-afb3-348699cfbb5c",
    "collapsed": false,
    "id": "MnaH5h8u416o",
    "jupyter": {
     "outputs_hidden": false
    },
    "papermill": {
     "duration": 0.009013,
     "end_time": "2024-11-09T04:32:11.093037",
     "exception": false,
     "start_time": "2024-11-09T04:32:11.084024",
     "status": "completed"
    },
    "tags": []
   },
   "source": [
    "Now let us plot the distribution for all the numerical features."
   ]
  },
  {
   "cell_type": "code",
   "execution_count": 7,
   "id": "424e730e",
   "metadata": {
    "_cell_guid": "e87eb315-36b0-43d8-950c-93638021ea3b",
    "_uuid": "ee8b9e69-0459-4026-8839-28f0656681f6",
    "collapsed": false,
    "execution": {
     "iopub.execute_input": "2024-11-09T04:32:11.112819Z",
     "iopub.status.busy": "2024-11-09T04:32:11.112369Z",
     "iopub.status.idle": "2024-11-09T04:32:19.496959Z",
     "shell.execute_reply": "2024-11-09T04:32:19.495517Z"
    },
    "id": "Dj4h_dIw416o",
    "jupyter": {
     "outputs_hidden": false
    },
    "papermill": {
     "duration": 8.400501,
     "end_time": "2024-11-09T04:32:19.502480",
     "exception": false,
     "start_time": "2024-11-09T04:32:11.101979",
     "status": "completed"
    },
    "tags": []
   },
   "outputs": [
    {
     "data": {
      "image/png": "[encoded data removed]",
      "text/plain": [
       "<Figure size 1600x2000 with 42 Axes>"
      ]
     },
     "metadata": {},
     "output_type": "display_data"
    }
   ],
   "source": [
    "df_num.hist(figsize=(16, 20), bins=50, xlabelsize=8, ylabelsize=8);"
   ]
  },
  {
   "cell_type": "markdown",
   "id": "39fda1cb",
   "metadata": {
    "_cell_guid": "08d93ad1-c3e1-47c1-aac5-242ce26329a0",
    "_uuid": "8ea3082d-95af-4577-a478-f67915199e86",
    "collapsed": false,
    "id": "H4O7QCoh5e2e",
    "jupyter": {
     "outputs_hidden": false
    },
    "papermill": {
     "duration": 0.012454,
     "end_time": "2024-11-09T04:32:19.528387",
     "exception": false,
     "start_time": "2024-11-09T04:32:19.515933",
     "status": "completed"
    },
    "tags": []
   },
   "source": [
    "## Prepare the dataset\n",
    "\n",
    "This dataset contains a mix of numeric, categorical and missing features. TF-DF supports all these feature types natively, and no preprocessing is required. This is one advantage of tree-based models, making them a great entry point to Tensorflow and ML."
   ]
  },
  {
   "cell_type": "code",
   "execution_count": 8,
   "id": "daecae8e",
   "metadata": {
    "_cell_guid": "8f6f28ae-3bc8-42bf-b829-435bb4200798",
    "_uuid": "a677d6fa-ed38-4663-9fba-49eddf33de31",
    "collapsed": false,
    "execution": {
     "iopub.execute_input": "2024-11-09T04:32:19.555448Z",
     "iopub.status.busy": "2024-11-09T04:32:19.555051Z",
     "iopub.status.idle": "2024-11-09T04:32:19.566165Z",
     "shell.execute_reply": "2024-11-09T04:32:19.564572Z"
    },
    "id": "tsQad0t7SBv2",
    "jupyter": {
     "outputs_hidden": false
    },
    "papermill": {
     "duration": 0.027593,
     "end_time": "2024-11-09T04:32:19.568950",
     "exception": false,
     "start_time": "2024-11-09T04:32:19.541357",
     "status": "completed"
    },
    "tags": []
   },
   "outputs": [
    {
     "name": "stdout",
     "output_type": "stream",
     "text": [
      "1005 examples in training, 455 examples in testing.\n"
     ]
    }
   ],
   "source": [
    "import numpy as np\n",
    "\n",
    "def split_dataset(dataset, test_ratio=0.30):\n",
    "  test_indices = np.random.rand(len(dataset)) < test_ratio\n",
    "  return dataset[~test_indices], dataset[test_indices]\n",
    "\n",
    "train_ds_pd, valid_ds_pd = split_dataset(dataset_df)\n",
    "print(\"{} examples in training, {} examples in testing.\".format(\n",
    "    len(train_ds_pd), len(valid_ds_pd)))"
   ]
  },
  {
   "cell_type": "code",
   "execution_count": 9,
   "id": "46115695",
   "metadata": {
    "_cell_guid": "fd2d0e87-8e89-4e73-b6b6-7a60d7ddc407",
    "_uuid": "09e314dc-d719-4843-832a-358b74ed3a63",
    "collapsed": false,
    "execution": {
     "iopub.execute_input": "2024-11-09T04:32:19.596311Z",
     "iopub.status.busy": "2024-11-09T04:32:19.595834Z",
     "iopub.status.idle": "2024-11-09T04:32:19.964509Z",
     "shell.execute_reply": "2024-11-09T04:32:19.962896Z"
    },
    "id": "xQgimfirSGQ9",
    "jupyter": {
     "outputs_hidden": false
    },
    "papermill": {
     "duration": 0.386344,
     "end_time": "2024-11-09T04:32:19.967610",
     "exception": false,
     "start_time": "2024-11-09T04:32:19.581266",
     "status": "completed"
    },
    "tags": []
   },
   "outputs": [],
   "source": [
    "label = 'SalePrice'\n",
    "train_ds = tfdf.keras.pd_dataframe_to_tf_dataset(train_ds_pd, label=label, task = tfdf.keras.Task.REGRESSION)\n",
    "valid_ds = tfdf.keras.pd_dataframe_to_tf_dataset(valid_ds_pd, label=label, task = tfdf.keras.Task.REGRESSION)"
   ]
  },
  {
   "cell_type": "markdown",
   "id": "80efb848",
   "metadata": {
    "_cell_guid": "91090b22-fb19-4b9c-8ae7-10bafa848f02",
    "_uuid": "a33dbfde-dba0-4300-94d4-7ab0fd5e8793",
    "collapsed": false,
    "jupyter": {
     "outputs_hidden": false
    },
    "papermill": {
     "duration": 0.011856,
     "end_time": "2024-11-09T04:32:19.991686",
     "exception": false,
     "start_time": "2024-11-09T04:32:19.979830",
     "status": "completed"
    },
    "tags": []
   },
   "source": [
    "# **Homework 7 (DS6030) - Qais Youssef**"
   ]
  },
  {
   "cell_type": "code",
   "execution_count": 10,
   "id": "528341bc",
   "metadata": {
    "_cell_guid": "91703294-a7bd-44d0-9f11-68fa832d97ca",
    "_uuid": "a3cb352f-cadc-4484-9cfa-c39c3050227e",
    "collapsed": false,
    "execution": {
     "iopub.execute_input": "2024-11-09T04:32:20.017982Z",
     "iopub.status.busy": "2024-11-09T04:32:20.017490Z",
     "iopub.status.idle": "2024-11-09T04:32:20.405923Z",
     "shell.execute_reply": "2024-11-09T04:32:20.404583Z"
    },
    "jupyter": {
     "outputs_hidden": false
    },
    "papermill": {
     "duration": 0.405227,
     "end_time": "2024-11-09T04:32:20.409096",
     "exception": false,
     "start_time": "2024-11-09T04:32:20.003869",
     "status": "completed"
    },
    "tags": []
   },
   "outputs": [
    {
     "name": "stdout",
     "output_type": "stream",
     "text": [
      "1022 examples in training, 438 examples in validation.\n"
     ]
    }
   ],
   "source": [
    "seed = 42\n",
    "train_file_path = \"../input/house-prices-advanced-regression-techniques/train.csv\"\n",
    "dataset_df = pd.read_csv(train_file_path)\n",
    "\n",
    "# Drop the 'Id' column\n",
    "dataset_df = dataset_df.drop('Id', axis=1)\n",
    "\n",
    "# Apply log transformation to the target variable to stabilize variance\n",
    "dataset_df['SalePrice'] = np.log1p(dataset_df['SalePrice'])\n",
    "\n",
    "\n",
    "# Feature Engineering\n",
    "def create_new_features(df):\n",
    "    df = df.copy()\n",
    "    df['TotalSF'] = df['TotalBsmtSF'] + df['1stFlrSF'] + df['2ndFlrSF']\n",
    "    df['Age'] = df['YrSold'] - df['YearBuilt']\n",
    "    df['TotalBath'] = (\n",
    "        df['FullBath'] + df['HalfBath'] * 0.5 +\n",
    "        df['BsmtFullBath'] + df['BsmtHalfBath'] * 0.5\n",
    "    )\n",
    "    return df\n",
    "\n",
    "dataset_df = create_new_features(dataset_df)\n",
    "\n",
    "\n",
    "# Split the dataset into training and validation sets\n",
    "train_ds_pd, valid_ds_pd = train_test_split(\n",
    "    dataset_df, test_size=0.3, random_state=seed)\n",
    "print(f\"{len(train_ds_pd)} examples in training, {len(valid_ds_pd)} examples in validation.\")\n",
    "\n",
    "# Handle missing values\n",
    "numerical_cols = train_ds_pd.select_dtypes(include=['int64', 'float64']).columns\n",
    "categorical_cols = train_ds_pd.select_dtypes(include=['object']).columns\n",
    "\n",
    "# Fill missing values\n",
    "train_ds_pd[numerical_cols] = train_ds_pd[numerical_cols].fillna(train_ds_pd[numerical_cols].mean())\n",
    "valid_ds_pd[numerical_cols] = valid_ds_pd[numerical_cols].fillna(train_ds_pd[numerical_cols].mean())\n",
    "\n",
    "train_ds_pd[categorical_cols] = train_ds_pd[categorical_cols].fillna(train_ds_pd[categorical_cols].mode().iloc[0])\n",
    "valid_ds_pd[categorical_cols] = valid_ds_pd[categorical_cols].fillna(train_ds_pd[categorical_cols].mode().iloc[0])\n",
    "\n",
    "\n",
    "# Convert the DataFrames to TensorFlow datasets\n",
    "label = 'SalePrice'\n",
    "train_ds = tfdf.keras.pd_dataframe_to_tf_dataset(\n",
    "    train_ds_pd, label=label, task=tfdf.keras.Task.REGRESSION)\n",
    "valid_ds = tfdf.keras.pd_dataframe_to_tf_dataset(\n",
    "    valid_ds_pd, label=label, task=tfdf.keras.Task.REGRESSION)"
   ]
  },
  {
   "cell_type": "code",
   "execution_count": 11,
   "id": "101cf3fe",
   "metadata": {
    "_cell_guid": "34b88ebb-a51c-4f9a-a199-3d179655f457",
    "_uuid": "4b8648d5-a344-4bdb-912b-70903820ae44",
    "collapsed": false,
    "execution": {
     "iopub.execute_input": "2024-11-09T04:32:20.435226Z",
     "iopub.status.busy": "2024-11-09T04:32:20.434766Z",
     "iopub.status.idle": "2024-11-09T04:32:48.890136Z",
     "shell.execute_reply": "2024-11-09T04:32:48.888420Z"
    },
    "jupyter": {
     "outputs_hidden": false
    },
    "papermill": {
     "duration": 28.471948,
     "end_time": "2024-11-09T04:32:48.893115",
     "exception": false,
     "start_time": "2024-11-09T04:32:20.421167",
     "status": "completed"
    },
    "scrolled": true,
    "tags": []
   },
   "outputs": [
    {
     "name": "stdout",
     "output_type": "stream",
     "text": [
      "Use /tmp/tmp6ak2_2_2 as temporary training directory\n",
      "Reading training dataset...\n",
      "Training dataset read in 0:00:07.536836. Found 1022 examples.\n",
      "Training model...\n"
     ]
    },
    {
     "name": "stderr",
     "output_type": "stream",
     "text": [
      "[INFO 2024-11-09T04:32:29.712843581+00:00 kernel.cc:1214] Loading model from path /tmp/tmp6ak2_2_2/model/ with prefix 0763f88d56e048ab\n"
     ]
    },
    {
     "name": "stdout",
     "output_type": "stream",
     "text": [
      "Model trained in 0:00:01.993245\n",
      "Compiling model...\n"
     ]
    },
    {
     "name": "stderr",
     "output_type": "stream",
     "text": [
      "[INFO 2024-11-09T04:32:30.012785089+00:00 decision_forest.cc:661] Model loaded with 500 root(s), 76914 node(s), and 76 input feature(s).\n",
      "[INFO 2024-11-09T04:32:30.01287012+00:00 abstract_model.cc:1311] Engine \"RandomForestOptPred\" built\n",
      "[INFO 2024-11-09T04:32:30.012942836+00:00 kernel.cc:1046] Use fast generic engine\n"
     ]
    },
    {
     "name": "stdout",
     "output_type": "stream",
     "text": [
      "WARNING: AutoGraph could not transform <function simple_ml_inference_op_with_handle at 0x7ed1d3724f80> and will run it as-is.\n",
      "Please report this to the TensorFlow team. When filing the bug, set the verbosity to 10 (on Linux, `export AUTOGRAPH_VERBOSITY=10`) and attach the full output.\n",
      "Cause: could not get source code\n",
      "To silence this warning, decorate the function with @tf.autograph.experimental.do_not_convert\n",
      "Model compiled.\n",
      "1/1 [==============================] - 1s 813ms/step - loss: 0.0000e+00 - mse: 0.0173\n",
      "\n",
      "Random Forest Evaluation on Validation Set:\n",
      "loss: 0.000000\n",
      "mse: 0.017327\n",
      "Use /tmp/tmpf4ri4weh as temporary training directory\n",
      "Reading training dataset...\n",
      "Training dataset read in 0:00:01.204774. Found 1022 examples.\n",
      "Training model...\n",
      "Model trained in 0:00:11.781439\n",
      "Compiling model...\n"
     ]
    },
    {
     "name": "stderr",
     "output_type": "stream",
     "text": [
      "[INFO 2024-11-09T04:32:47.241218244+00:00 kernel.cc:1214] Loading model from path /tmp/tmpf4ri4weh/model/ with prefix 482e5866e0c049c7\n",
      "[INFO 2024-11-09T04:32:47.344623825+00:00 abstract_model.cc:1311] Engine \"GradientBoostedTreesQuickScorerExtended\" built\n",
      "[INFO 2024-11-09T04:32:47.344713615+00:00 kernel.cc:1046] Use fast generic engine\n"
     ]
    },
    {
     "name": "stdout",
     "output_type": "stream",
     "text": [
      "Model compiled.\n",
      "1/1 [==============================] - 0s 485ms/step - loss: 0.0000e+00 - mse: 0.0186\n",
      "\n",
      "Gradient Boosted Trees Evaluation on Validation Set:\n",
      "loss: 0.000000\n",
      "mse: 0.018613\n"
     ]
    }
   ],
   "source": [
    "# Retrain Random Forest with new hyperparameters\n",
    "rf_new = tfdf.keras.RandomForestModel(\n",
    "    task=tfdf.keras.Task.REGRESSION,\n",
    "    num_trees=500,\n",
    "    max_depth=8,    # Reduced from 12\n",
    "    min_examples=5  # Increased from 2\n",
    ")\n",
    "rf_new.compile(metrics=[\"mse\"])\n",
    "rf_new.fit(x=train_ds)\n",
    "\n",
    "# Evaluate the new Random Forest model\n",
    "evaluation_rf = rf_new.evaluate(x=valid_ds, return_dict=True)\n",
    "print(\"\\nRandom Forest Evaluation on Validation Set:\")\n",
    "for name, value in evaluation_rf.items():\n",
    "    print(f\"{name}: {value:.6f}\")\n",
    "\n",
    "# Define and train Gradient Boosted Trees model\n",
    "gbt_new = tfdf.keras.GradientBoostedTreesModel(\n",
    "    task=tfdf.keras.Task.REGRESSION,\n",
    "    num_trees=500,\n",
    "    max_depth=6,\n",
    "    shrinkage=0.005,\n",
    "    subsample=0.9,\n",
    "    l2_regularization=0.0\n",
    ")\n",
    "gbt_new.compile(metrics=[\"mse\"])\n",
    "gbt_new.fit(x=train_ds)\n",
    "\n",
    "# Evaluate Gradient Boosted Trees model\n",
    "evaluation_gbt = gbt_new.evaluate(x=valid_ds, return_dict=True)\n",
    "print(\"\\nGradient Boosted Trees Evaluation on Validation Set:\")\n",
    "for name, value in evaluation_gbt.items():\n",
    "    print(f\"{name}: {value:.6f}\")"
   ]
  },
  {
   "cell_type": "code",
   "execution_count": 12,
   "id": "b5635c8e",
   "metadata": {
    "_cell_guid": "04ea0970-4269-4539-b277-faadf067db9e",
    "_uuid": "ffb1969e-3f0d-453a-9a82-a9d4d80ab9e4",
    "collapsed": false,
    "execution": {
     "iopub.execute_input": "2024-11-09T04:32:48.923136Z",
     "iopub.status.busy": "2024-11-09T04:32:48.922695Z",
     "iopub.status.idle": "2024-11-09T04:32:51.178885Z",
     "shell.execute_reply": "2024-11-09T04:32:51.177217Z"
    },
    "jupyter": {
     "outputs_hidden": false
    },
    "papermill": {
     "duration": 2.274315,
     "end_time": "2024-11-09T04:32:51.181832",
     "exception": false,
     "start_time": "2024-11-09T04:32:48.907517",
     "status": "completed"
    },
    "tags": []
   },
   "outputs": [
    {
     "name": "stdout",
     "output_type": "stream",
     "text": [
      "2/2 [==============================] - 1s 26ms/step\n",
      "2/2 [==============================] - 1s 22ms/step\n"
     ]
    }
   ],
   "source": [
    "# Prepare the test dataset\n",
    "test_file_path = \"../input/house-prices-advanced-regression-techniques/test.csv\"\n",
    "test_data = pd.read_csv(test_file_path)\n",
    "ids = test_data['Id']\n",
    "test_data = test_data.drop('Id', axis=1)\n",
    "\n",
    "test_data = create_new_features(test_data)\n",
    "\n",
    "# Handle missing values in the test set using training set statistics\n",
    "numerical_cols = numerical_cols.drop('SalePrice', errors='ignore')  # Exclude target variable\n",
    "test_data[numerical_cols] = test_data[numerical_cols].fillna(\n",
    "    train_ds_pd[numerical_cols].mean())\n",
    "test_data[categorical_cols] = test_data[categorical_cols].fillna(\n",
    "    train_ds_pd[categorical_cols].mode().iloc[0])\n",
    "\n",
    "# Convert test data to TensorFlow dataset\n",
    "test_ds = tfdf.keras.pd_dataframe_to_tf_dataset(\n",
    "    test_data, task=tfdf.keras.Task.REGRESSION)\n",
    "\n",
    "# Generate predictions on test data\n",
    "rf_preds_log = rf_new.predict(test_ds).squeeze()\n",
    "gbt_preds_log = gbt_new.predict(test_ds).squeeze()"
   ]
  },
  {
   "cell_type": "code",
   "execution_count": 13,
   "id": "4fcb6177",
   "metadata": {
    "_cell_guid": "ee112d53-bc1f-4a41-944e-8419ed6fdd6c",
    "_uuid": "4431b0fc-7f74-4d35-97d0-965a8f634f68",
    "collapsed": false,
    "execution": {
     "iopub.execute_input": "2024-11-09T04:32:51.211831Z",
     "iopub.status.busy": "2024-11-09T04:32:51.211352Z",
     "iopub.status.idle": "2024-11-09T04:34:20.809740Z",
     "shell.execute_reply": "2024-11-09T04:34:20.808404Z"
    },
    "jupyter": {
     "outputs_hidden": false
    },
    "papermill": {
     "duration": 89.616762,
     "end_time": "2024-11-09T04:34:20.812662",
     "exception": false,
     "start_time": "2024-11-09T04:32:51.195900",
     "status": "completed"
    },
    "tags": []
   },
   "outputs": [
    {
     "name": "stdout",
     "output_type": "stream",
     "text": [
      "Use /tmp/tmpj44uo63g as temporary training directory\n",
      "Reading training dataset...\n",
      "Training dataset read in 0:00:01.138420. Found 817 examples.\n",
      "Training model...\n"
     ]
    },
    {
     "name": "stderr",
     "output_type": "stream",
     "text": [
      "[INFO 2024-11-09T04:32:54.025171359+00:00 kernel.cc:1214] Loading model from path /tmp/tmpj44uo63g/model/ with prefix 289a42f31f004157\n"
     ]
    },
    {
     "name": "stdout",
     "output_type": "stream",
     "text": [
      "Model trained in 0:00:01.578694\n",
      "Compiling model...\n"
     ]
    },
    {
     "name": "stderr",
     "output_type": "stream",
     "text": [
      "[INFO 2024-11-09T04:32:54.288068494+00:00 decision_forest.cc:661] Model loaded with 500 root(s), 69052 node(s), and 75 input feature(s).\n",
      "[INFO 2024-11-09T04:32:54.28814961+00:00 kernel.cc:1046] Use fast generic engine\n"
     ]
    },
    {
     "name": "stdout",
     "output_type": "stream",
     "text": [
      "Model compiled.\n",
      "1/1 [==============================] - 0s 222ms/step\n",
      "Use /tmp/tmppbia5rmv as temporary training directory\n",
      "Reading training dataset...\n",
      "Training dataset read in 0:00:01.139814. Found 817 examples.\n",
      "Training model...\n"
     ]
    },
    {
     "name": "stderr",
     "output_type": "stream",
     "text": [
      "[INFO 2024-11-09T04:32:58.210165646+00:00 kernel.cc:1214] Loading model from path /tmp/tmppbia5rmv/model/ with prefix b5ed890f0de24ab4\n"
     ]
    },
    {
     "name": "stdout",
     "output_type": "stream",
     "text": [
      "Model trained in 0:00:01.613974\n",
      "Compiling model...\n"
     ]
    },
    {
     "name": "stderr",
     "output_type": "stream",
     "text": [
      "[INFO 2024-11-09T04:32:58.50314495+00:00 decision_forest.cc:661] Model loaded with 500 root(s), 70532 node(s), and 74 input feature(s).\n",
      "[INFO 2024-11-09T04:32:58.503205325+00:00 abstract_model.cc:1311] Engine \"RandomForestOptPred\" built\n",
      "[INFO 2024-11-09T04:32:58.503243667+00:00 kernel.cc:1046] Use fast generic engine\n"
     ]
    },
    {
     "name": "stdout",
     "output_type": "stream",
     "text": [
      "Model compiled.\n",
      "1/1 [==============================] - 0s 235ms/step\n",
      "Use /tmp/tmp9hjnlb7_ as temporary training directory\n",
      "Reading training dataset...\n",
      "Training dataset read in 0:00:01.224686. Found 818 examples.\n",
      "Training model...\n"
     ]
    },
    {
     "name": "stderr",
     "output_type": "stream",
     "text": [
      "[INFO 2024-11-09T04:33:02.603436339+00:00 kernel.cc:1214] Loading model from path /tmp/tmp9hjnlb7_/model/ with prefix eb3e65e0f1ec44c6\n"
     ]
    },
    {
     "name": "stdout",
     "output_type": "stream",
     "text": [
      "Model trained in 0:00:01.561712\n",
      "Compiling model...\n"
     ]
    },
    {
     "name": "stderr",
     "output_type": "stream",
     "text": [
      "[INFO 2024-11-09T04:33:02.86701305+00:00 decision_forest.cc:661] Model loaded with 500 root(s), 69604 node(s), and 77 input feature(s).\n",
      "[INFO 2024-11-09T04:33:02.867095639+00:00 kernel.cc:1046] Use fast generic engine\n"
     ]
    },
    {
     "name": "stdout",
     "output_type": "stream",
     "text": [
      "Model compiled.\n",
      "1/1 [==============================] - 0s 218ms/step\n",
      "Use /tmp/tmp47owv47c as temporary training directory\n",
      "Reading training dataset...\n",
      "Training dataset read in 0:00:01.229674. Found 818 examples.\n",
      "Training model...\n"
     ]
    },
    {
     "name": "stderr",
     "output_type": "stream",
     "text": [
      "[INFO 2024-11-09T04:33:07.201518939+00:00 kernel.cc:1214] Loading model from path /tmp/tmp47owv47c/model/ with prefix 95598f55e713436c\n"
     ]
    },
    {
     "name": "stdout",
     "output_type": "stream",
     "text": [
      "Model trained in 0:00:01.548447\n",
      "Compiling model...\n"
     ]
    },
    {
     "name": "stderr",
     "output_type": "stream",
     "text": [
      "[INFO 2024-11-09T04:33:07.454686253+00:00 decision_forest.cc:661] Model loaded with 500 root(s), 69852 node(s), and 77 input feature(s).\n",
      "[INFO 2024-11-09T04:33:07.454782382+00:00 kernel.cc:1046] Use fast generic engine\n"
     ]
    },
    {
     "name": "stdout",
     "output_type": "stream",
     "text": [
      "Model compiled.\n",
      "1/1 [==============================] - 0s 220ms/step\n",
      "Use /tmp/tmpf43lfw55 as temporary training directory\n",
      "Reading training dataset...\n",
      "Training dataset read in 0:00:01.151416. Found 818 examples.\n",
      "Training model...\n"
     ]
    },
    {
     "name": "stderr",
     "output_type": "stream",
     "text": [
      "[INFO 2024-11-09T04:33:11.469362222+00:00 kernel.cc:1214] Loading model from path /tmp/tmpf43lfw55/model/ with prefix 22dd242be88842fb\n"
     ]
    },
    {
     "name": "stdout",
     "output_type": "stream",
     "text": [
      "Model trained in 0:00:01.574843\n",
      "Compiling model...\n"
     ]
    },
    {
     "name": "stderr",
     "output_type": "stream",
     "text": [
      "[INFO 2024-11-09T04:33:11.734580434+00:00 decision_forest.cc:661] Model loaded with 500 root(s), 70136 node(s), and 79 input feature(s).\n",
      "[INFO 2024-11-09T04:33:11.734676425+00:00 abstract_model.cc:1311] Engine \"RandomForestOptPred\" built\n",
      "[INFO 2024-11-09T04:33:11.734726602+00:00 kernel.cc:1046] Use fast generic engine\n"
     ]
    },
    {
     "name": "stdout",
     "output_type": "stream",
     "text": [
      "Model compiled.\n",
      "1/1 [==============================] - 0s 215ms/step\n",
      "Use /tmp/tmprdvnb42p as temporary training directory\n",
      "Reading training dataset...\n",
      "Training dataset read in 0:00:01.148452. Found 817 examples.\n",
      "Training model...\n",
      "Model trained in 0:00:10.895112\n",
      "Compiling model...\n"
     ]
    },
    {
     "name": "stderr",
     "output_type": "stream",
     "text": [
      "[INFO 2024-11-09T04:33:25.14931714+00:00 kernel.cc:1214] Loading model from path /tmp/tmprdvnb42p/model/ with prefix 58eedc35f2504fe7\n",
      "[INFO 2024-11-09T04:33:25.24790468+00:00 abstract_model.cc:1311] Engine \"GradientBoostedTreesQuickScorerExtended\" built\n",
      "[INFO 2024-11-09T04:33:25.247972011+00:00 kernel.cc:1046] Use fast generic engine\n"
     ]
    },
    {
     "name": "stdout",
     "output_type": "stream",
     "text": [
      "Model compiled.\n",
      "1/1 [==============================] - 0s 221ms/step\n",
      "Use /tmp/tmp3hr4zz0g as temporary training directory\n",
      "Reading training dataset...\n",
      "Training dataset read in 0:00:01.136670. Found 817 examples.\n",
      "Training model...\n",
      "Model trained in 0:00:11.080151\n",
      "Compiling model...\n"
     ]
    },
    {
     "name": "stderr",
     "output_type": "stream",
     "text": [
      "[INFO 2024-11-09T04:33:38.844950515+00:00 kernel.cc:1214] Loading model from path /tmp/tmp3hr4zz0g/model/ with prefix 9623f97a9fec4809\n",
      "[INFO 2024-11-09T04:33:38.946688585+00:00 abstract_model.cc:1311] Engine \"GradientBoostedTreesQuickScorerExtended\" built\n",
      "[INFO 2024-11-09T04:33:38.946761711+00:00 kernel.cc:1046] Use fast generic engine\n"
     ]
    },
    {
     "name": "stdout",
     "output_type": "stream",
     "text": [
      "Model compiled.\n",
      "1/1 [==============================] - 0s 234ms/step\n",
      "Use /tmp/tmpdfi9xt5k as temporary training directory\n",
      "Reading training dataset...\n",
      "Training dataset read in 0:00:01.155368. Found 818 examples.\n",
      "Training model...\n",
      "Model trained in 0:00:11.017046\n",
      "Compiling model...\n"
     ]
    },
    {
     "name": "stderr",
     "output_type": "stream",
     "text": [
      "[INFO 2024-11-09T04:33:52.519019338+00:00 kernel.cc:1214] Loading model from path /tmp/tmpdfi9xt5k/model/ with prefix 30bcb75ba915462e\n",
      "[INFO 2024-11-09T04:33:52.623864217+00:00 abstract_model.cc:1311] Engine \"GradientBoostedTreesQuickScorerExtended\" built\n",
      "[INFO 2024-11-09T04:33:52.623948517+00:00 kernel.cc:1046] Use fast generic engine\n"
     ]
    },
    {
     "name": "stdout",
     "output_type": "stream",
     "text": [
      "Model compiled.\n",
      "1/1 [==============================] - 0s 218ms/step\n",
      "Use /tmp/tmpg38g3x78 as temporary training directory\n",
      "Reading training dataset...\n",
      "Training dataset read in 0:00:01.164990. Found 818 examples.\n",
      "Training model...\n",
      "Model trained in 0:00:10.993335\n",
      "Compiling model...\n"
     ]
    },
    {
     "name": "stderr",
     "output_type": "stream",
     "text": [
      "[INFO 2024-11-09T04:34:06.149281663+00:00 kernel.cc:1214] Loading model from path /tmp/tmpg38g3x78/model/ with prefix 1124ef7bfd044725\n",
      "[INFO 2024-11-09T04:34:06.248993873+00:00 abstract_model.cc:1311] Engine \"GradientBoostedTreesQuickScorerExtended\" built\n",
      "[INFO 2024-11-09T04:34:06.249065075+00:00 kernel.cc:1046] Use fast generic engine\n"
     ]
    },
    {
     "name": "stdout",
     "output_type": "stream",
     "text": [
      "Model compiled.\n",
      "1/1 [==============================] - 0s 231ms/step\n",
      "Use /tmp/tmpvhvikm1h as temporary training directory\n",
      "Reading training dataset...\n",
      "Training dataset read in 0:00:01.169864. Found 818 examples.\n",
      "Training model...\n",
      "Model trained in 0:00:10.632589\n",
      "Compiling model...\n"
     ]
    },
    {
     "name": "stderr",
     "output_type": "stream",
     "text": [
      "[INFO 2024-11-09T04:34:19.418019687+00:00 kernel.cc:1214] Loading model from path /tmp/tmpvhvikm1h/model/ with prefix e76b552b68ae4a13\n",
      "[INFO 2024-11-09T04:34:19.516219666+00:00 abstract_model.cc:1311] Engine \"GradientBoostedTreesQuickScorerExtended\" built\n",
      "[INFO 2024-11-09T04:34:19.516298786+00:00 kernel.cc:1046] Use fast generic engine\n"
     ]
    },
    {
     "name": "stdout",
     "output_type": "stream",
     "text": [
      "Model compiled.\n",
      "1/1 [==============================] - 0s 229ms/step\n",
      "\n",
      "Stacked Model Submission Preview:\n",
      "     Id      SalePrice\n",
      "0  1461  120368.575634\n",
      "1  1462  154020.465479\n",
      "2  1463  187352.338512\n",
      "3  1464  185570.887170\n",
      "4  1465  200958.823323\n"
     ]
    }
   ],
   "source": [
    "from sklearn.linear_model import Ridge\n",
    "from sklearn.model_selection import KFold\n",
    "\n",
    "seed = 42\n",
    "# Function to create a new Random Forest model\n",
    "def create_rf_model():\n",
    "    rf_model = tfdf.keras.RandomForestModel(\n",
    "        task=tfdf.keras.Task.REGRESSION,\n",
    "        num_trees=500,\n",
    "        max_depth=8,\n",
    "        min_examples=5\n",
    "    )\n",
    "    rf_model.compile(metrics=[\"mse\"])\n",
    "    return rf_model\n",
    "\n",
    "# Function to create a new Gradient Boosted Trees model\n",
    "def create_gbt_model():\n",
    "    gbt_model = tfdf.keras.GradientBoostedTreesModel(\n",
    "        task=tfdf.keras.Task.REGRESSION,\n",
    "        num_trees=500,\n",
    "        max_depth=6,\n",
    "        shrinkage=0.005,\n",
    "        subsample=0.9,\n",
    "        l2_regularization=0.0\n",
    "    )\n",
    "    gbt_model.compile(metrics=[\"mse\"])\n",
    "    return gbt_model\n",
    "    \n",
    "def get_oof_predictions(model_builder, X, y, folds=5):\n",
    "    kf = KFold(n_splits=folds, shuffle=True, random_state=seed)\n",
    "    oof_preds = np.zeros(len(X))\n",
    "    for train_index, val_index in kf.split(X):\n",
    "        X_train, X_val = X.iloc[train_index], X.iloc[val_index]\n",
    "        y_train = y.iloc[train_index]\n",
    "\n",
    "        # Convert to TensorFlow datasets\n",
    "        train_ds_fold = tfdf.keras.pd_dataframe_to_tf_dataset(\n",
    "            X_train.assign(SalePrice=y_train),\n",
    "            label='SalePrice',\n",
    "            task=tfdf.keras.Task.REGRESSION\n",
    "        )\n",
    "        val_ds_fold = tfdf.keras.pd_dataframe_to_tf_dataset(\n",
    "            X_val,\n",
    "            task=tfdf.keras.Task.REGRESSION\n",
    "        )\n",
    "\n",
    "        # Create a new model instance for each fold\n",
    "        model = model_builder()\n",
    "\n",
    "        # Train model on fold\n",
    "        model.fit(x=train_ds_fold)\n",
    "\n",
    "        # Predict on validation fold\n",
    "        val_preds = model.predict(val_ds_fold).squeeze()\n",
    "        oof_preds[val_index] = val_preds\n",
    "\n",
    "    return oof_preds\n",
    "\n",
    "\n",
    "# Prepare data for meta-learner\n",
    "X = train_ds_pd.drop('SalePrice', axis=1)\n",
    "y = train_ds_pd['SalePrice']\n",
    "\n",
    "# Get OOF predictions for both models using the model builders\n",
    "rf_oof_preds = get_oof_predictions(create_rf_model, X, y)\n",
    "gbt_oof_preds = get_oof_predictions(create_gbt_model, X, y)\n",
    "\n",
    "# Stack predictions\n",
    "meta_X = np.vstack((rf_oof_preds, gbt_oof_preds)).T\n",
    "meta_y = y.values\n",
    "\n",
    "# Train meta-learner\n",
    "meta_learner = Ridge()\n",
    "meta_learner.fit(meta_X, meta_y)\n",
    "\n",
    "# Prepare test predictions for meta-learner\n",
    "meta_test_X = np.vstack((rf_preds_log, gbt_preds_log)).T\n",
    "\n",
    "# Predict with meta-learner\n",
    "final_preds_log = meta_learner.predict(meta_test_X)\n",
    "final_preds = np.expm1(final_preds_log)\n",
    "\n",
    "# Prepare submission\n",
    "submission = pd.DataFrame({'Id': ids, 'SalePrice': final_preds})\n",
    "submission.to_csv('submission_stacked.csv', index=False)\n",
    "\n",
    "# Preview the submission file\n",
    "print(\"\\nStacked Model Submission Preview:\")\n",
    "print(submission.head())"
   ]
  }
 ],
 "metadata": {
  "kaggle": {
   "accelerator": "none",
   "dataSources": [
    {
     "databundleVersionId": 868283,
     "sourceId": 5407,
     "sourceType": "competition"
    }
   ],
   "dockerImageVersionId": 30407,
   "isGpuEnabled": false,
   "isInternetEnabled": false,
   "language": "python",
   "sourceType": "notebook"
  },
  "kernelspec": {
   "display_name": "Python 3",
   "language": "python",
   "name": "python3"
  },
  "language_info": {
   "codemirror_mode": {
    "name": "ipython",
    "version": 3
   },
   "file_extension": ".py",
   "mimetype": "text/x-python",
   "name": "python",
   "nbconvert_exporter": "python",
   "pygments_lexer": "ipython3",
   "version": "3.7.12"
  },
  "papermill": {
   "default_parameters": {},
   "duration": 160.823829,
   "end_time": "2024-11-09T04:34:24.119843",
   "environment_variables": {},
   "exception": null,
   "input_path": "__notebook__.ipynb",
   "output_path": "__notebook__.ipynb",
   "parameters": {},
   "start_time": "2024-11-09T04:31:43.296014",
   "version": "2.4.0"
  }
 },
 "nbformat": 4,
 "nbformat_minor": 5
}
