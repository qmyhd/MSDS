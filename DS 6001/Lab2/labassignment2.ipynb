{
 "cells": [
  {
   "cell_type": "markdown",
   "metadata": {},
   "source": [
    "# Lab Assignment 2: Qais Youssef (qmy6cv)\n",
    "## DS 6001: Practice and Application of Data Science\n",
    "\n",
    "### Instructions\n",
    "Please answer the following questions as completely as possible using text, code, and the results of code as needed. Format your answers in a Jupyter notebook. To receive full credit, make sure you address every part of the problem, and make sure your document is formatted in a clean and professional way.\n",
    "\n",
    "There are 11 data files attached to this lab assignment, with different extensions. First, download all of these data files, and save them in the same folder on your local machine. Your task in the following questions is to load each file into Python correctly, so that you can begin the process of data cleaning. If the variable names are included in the file, use those names to name the columns. If the variable names are not included, use these names in order:"
   ]
  },
  {
   "cell_type": "code",
   "execution_count": 2,
   "metadata": {},
   "outputs": [],
   "source": [
    "column_names = [\"Country\", \"Happiness score\", \"Whisker-high\", \"Whisker-low\", \n",
    "  \"Dystopia (1.92) + residual\", \"Explained by: GDP per capita\", \n",
    "  \"Explained by: Social support\", \"Explained by: Healthy life expectancy\", \n",
    "  \"Explained by: Freedom to make life choices\", \"Explained by: Generosity\", \n",
    "  \"Explained by: Perceptions of corruption\" ]"
   ]
  },
  {
   "cell_type": "markdown",
   "metadata": {},
   "source": [
    "If you loaded the data correctly, it will look like `data_clean.csv`, which is also attached to this lab."
   ]
  },
  {
   "cell_type": "markdown",
   "metadata": {},
   "source": [
    "## Problem 0\n",
    "Import the libraries you will need. Then write code to change the working directory to the folder in which you saved the data files, run the code displayed above to create the `column_names` list, load `data_clean.csv`, and display the output of the `.info()` method of `data_clean`. (1 point)"
   ]
  },
  {
   "cell_type": "code",
   "execution_count": 3,
   "metadata": {},
   "outputs": [
    {
     "name": "stdout",
     "output_type": "stream",
     "text": [
      "<class 'pandas.core.frame.DataFrame'>\n",
      "RangeIndex: 156 entries, 0 to 155\n",
      "Data columns (total 11 columns):\n",
      " #   Column                                      Non-Null Count  Dtype  \n",
      "---  ------                                      --------------  -----  \n",
      " 0   Country                                     156 non-null    object \n",
      " 1   Happiness score                             156 non-null    float64\n",
      " 2   Whisker-high                                156 non-null    float64\n",
      " 3   Whisker-low                                 156 non-null    float64\n",
      " 4   Dystopia (1.92) + residual                  156 non-null    float64\n",
      " 5   Explained by: GDP per capita                156 non-null    float64\n",
      " 6   Explained by: Social support                156 non-null    float64\n",
      " 7   Explained by: Healthy life expectancy       156 non-null    float64\n",
      " 8   Explained by: Freedom to make life choices  156 non-null    float64\n",
      " 9   Explained by: Generosity                    156 non-null    float64\n",
      " 10  Explained by: Perceptions of corruption     156 non-null    float64\n",
      "dtypes: float64(10), object(1)\n",
      "memory usage: 13.5+ KB\n",
      "None\n"
     ]
    }
   ],
   "source": [
    "import os\n",
    "import pandas as pd\n",
    "\n",
    "data_folder = r\"C:\\Users\\qaism\\OneDrive - University of Virginia\\Documents\\GitHub\\MSDS\\DS 6001\\Lab2\\lab2data\"\n",
    "os.chdir(data_folder)\n",
    "data_clean = pd.read_csv(\"data_clean.csv\")\n",
    "print(data_clean.info())\n"
   ]
  },
  {
   "cell_type": "markdown",
   "metadata": {},
   "source": [
    "## Problem 1\n",
    "Load `data1.csv`. Use the tools we discussed in class to decide whether the data file loaded correctly, and include that code in your lab report. In one or two sentences, describe how you decided on the right combination of parameters needed to load the data. (1 point)"
   ]
  },
  {
   "cell_type": "code",
   "execution_count": 4,
   "metadata": {},
   "outputs": [
    {
     "name": "stdout",
     "output_type": "stream",
     "text": [
      "                                     Country  Happiness score  Whisker-high  \\\n",
      "0  URL: http://worldhappiness.report/ed/2018              NaN           NaN   \n",
      "1                                    Country  Happiness score  Whisker-high   \n",
      "2                                    Finland            7.632         7.695   \n",
      "3                                     Norway            7.594         7.657   \n",
      "4                                    Denmark            7.555         7.623   \n",
      "\n",
      "   Whisker-low  Dystopia (1.92) + residual  Explained by: GDP per capita  \\\n",
      "0          NaN                         NaN                           NaN   \n",
      "1  Whisker-low  Dystopia (1.92) + residual  Explained by: GDP per capita   \n",
      "2        7.569                       2.595                         1.305   \n",
      "3        7.530                       2.383                         1.456   \n",
      "4        7.487                       2.370                         1.351   \n",
      "\n",
      "   Explained by: Social support  Explained by: Healthy life expectancy  \\\n",
      "0                           NaN                                    NaN   \n",
      "1  Explained by: Social support  Explained by: Healthy life expectancy   \n",
      "2                         1.592                                  0.874   \n",
      "3                         1.582                                  0.861   \n",
      "4                         1.590                                  0.868   \n",
      "\n",
      "   Explained by: Freedom to make life choices  Explained by: Generosity  \\\n",
      "0                                         NaN                       NaN   \n",
      "1  Explained by: Freedom to make life choices  Explained by: Generosity   \n",
      "2                                       0.681                     0.192   \n",
      "3                                       0.686                     0.286   \n",
      "4                                       0.683                     0.284   \n",
      "\n",
      "   Explained by: Perceptions of corruption  \n",
      "0                                      NaN  \n",
      "1  Explained by: Perceptions of corruption  \n",
      "2                                    0.393  \n",
      "3                                    0.340  \n",
      "4                                    0.408  \n",
      "<class 'pandas.core.frame.DataFrame'>\n",
      "RangeIndex: 158 entries, 0 to 157\n",
      "Data columns (total 11 columns):\n",
      " #   Column                                      Non-Null Count  Dtype \n",
      "---  ------                                      --------------  ----- \n",
      " 0   Country                                     158 non-null    object\n",
      " 1   Happiness score                             157 non-null    object\n",
      " 2   Whisker-high                                157 non-null    object\n",
      " 3   Whisker-low                                 157 non-null    object\n",
      " 4   Dystopia (1.92) + residual                  157 non-null    object\n",
      " 5   Explained by: GDP per capita                157 non-null    object\n",
      " 6   Explained by: Social support                157 non-null    object\n",
      " 7   Explained by: Healthy life expectancy       157 non-null    object\n",
      " 8   Explained by: Freedom to make life choices  157 non-null    object\n",
      " 9   Explained by: Generosity                    157 non-null    object\n",
      " 10  Explained by: Perceptions of corruption     157 non-null    object\n",
      "dtypes: object(11)\n",
      "memory usage: 13.7+ KB\n",
      "None\n"
     ]
    }
   ],
   "source": [
    "csv_path = r\"C:\\Users\\qaism\\OneDrive - University of Virginia\\Documents\\GitHub\\MSDS\\DS 6001\\Lab2\\lab2data\\data1.csv\"\n",
    "\n",
    "data1 = pd.read_csv(csv_path, skiprows=1, names=column_names) \n",
    "print(data1.head())\n",
    "print(data1.info())"
   ]
  },
  {
   "cell_type": "markdown",
   "metadata": {},
   "source": [
    "**Answer:** I saw that the first row contained metadata of some sort, so I skipped it using skiprows=1. The names=column_names parameter assigns the correct column names to the DataFrame."
   ]
  },
  {
   "cell_type": "markdown",
   "metadata": {},
   "source": [
    "## Problem 2\n",
    "Load `data2.txt`. Use the tools we discussed in class to decide whether the data file loaded correctly, and include that code in your lab report. In one or two sentences, describe how you decided on the right combination of parameters needed to load the data. (1 point)"
   ]
  },
  {
   "cell_type": "code",
   "execution_count": 5,
   "metadata": {},
   "outputs": [
    {
     "name": "stdout",
     "output_type": "stream",
     "text": [
      "                                             Country  Happiness score  \\\n",
      "0  /The following countries comprise the \"very ha...              NaN   \n",
      "1                                            Finland            7.632   \n",
      "2                                             Norway            7.594   \n",
      "3                                            Denmark            7.555   \n",
      "4                                            Iceland            7.495   \n",
      "\n",
      "   Whisker-high  Whisker-low  Dystopia (1.92) + residual  \\\n",
      "0           NaN          NaN                         NaN   \n",
      "1         7.695        7.569                       2.595   \n",
      "2         7.657        7.530                       2.383   \n",
      "3         7.623        7.487                       2.370   \n",
      "4         7.593        7.398                       2.426   \n",
      "\n",
      "   Explained by: GDP per capita  Explained by: Social support  \\\n",
      "0                           NaN                           NaN   \n",
      "1                         1.305                         1.592   \n",
      "2                         1.456                         1.582   \n",
      "3                         1.351                         1.590   \n",
      "4                         1.343                         1.644   \n",
      "\n",
      "   Explained by: Healthy life expectancy  \\\n",
      "0                                    NaN   \n",
      "1                                  0.874   \n",
      "2                                  0.861   \n",
      "3                                  0.868   \n",
      "4                                  0.914   \n",
      "\n",
      "   Explained by: Freedom to make life choices  Explained by: Generosity  \\\n",
      "0                                         NaN                       NaN   \n",
      "1                                       0.681                     0.192   \n",
      "2                                       0.686                     0.286   \n",
      "3                                       0.683                     0.284   \n",
      "4                                       0.677                     0.353   \n",
      "\n",
      "   Explained by: Perceptions of corruption  \n",
      "0                                      NaN  \n",
      "1                                    0.393  \n",
      "2                                    0.340  \n",
      "3                                    0.408  \n",
      "4                                    0.138  \n",
      "<class 'pandas.core.frame.DataFrame'>\n",
      "RangeIndex: 159 entries, 0 to 158\n",
      "Data columns (total 11 columns):\n",
      " #   Column                                      Non-Null Count  Dtype  \n",
      "---  ------                                      --------------  -----  \n",
      " 0   Country                                     159 non-null    object \n",
      " 1   Happiness score                             156 non-null    float64\n",
      " 2   Whisker-high                                156 non-null    float64\n",
      " 3   Whisker-low                                 156 non-null    float64\n",
      " 4   Dystopia (1.92) + residual                  156 non-null    float64\n",
      " 5   Explained by: GDP per capita                156 non-null    float64\n",
      " 6   Explained by: Social support                156 non-null    float64\n",
      " 7   Explained by: Healthy life expectancy       156 non-null    float64\n",
      " 8   Explained by: Freedom to make life choices  156 non-null    float64\n",
      " 9   Explained by: Generosity                    156 non-null    float64\n",
      " 10  Explained by: Perceptions of corruption     156 non-null    float64\n",
      "dtypes: float64(10), object(1)\n",
      "memory usage: 13.8+ KB\n",
      "None\n"
     ]
    }
   ],
   "source": [
    "txt_path = r\"C:\\Users\\qaism\\OneDrive - University of Virginia\\Documents\\GitHub\\MSDS\\DS 6001\\Lab2\\lab2data\\data2.txt\"\n",
    "data2 = pd.read_csv(txt_path, skiprows=2)\n",
    "print(data2.head())\n",
    "print(data2.info())"
   ]
  },
  {
   "cell_type": "markdown",
   "metadata": {},
   "source": [
    "**Answer:**  To load data2.txt, I skipped the first two rows containing metadata using skiprows=2 and let pandas use the column names provided in the third row of the file."
   ]
  },
  {
   "cell_type": "markdown",
   "metadata": {},
   "source": [
    "## Problem 3\n",
    "Load `data3.txt`. Use the tools we discussed in class to decide whether the data file loaded correctly, and include that code in your lab report. In one or two sentences, describe how you decided on the right combination of parameters needed to load the data. (1 point)"
   ]
  },
  {
   "cell_type": "code",
   "execution_count": 6,
   "metadata": {},
   "outputs": [
    {
     "name": "stdout",
     "output_type": "stream",
     "text": [
      "       Country  Happiness score  Whisker-high  Whisker-low  \\\n",
      "0      Finland            7.632         7.695        7.569   \n",
      "1       Norway            7.594         7.657        7.530   \n",
      "2      Denmark            7.555         7.623        7.487   \n",
      "3      Iceland            7.495         7.593        7.398   \n",
      "4  Switzerland            7.487         7.570        7.405   \n",
      "\n",
      "   Dystopia (1.92) + residual  Explained by: GDP per capita  \\\n",
      "0                       2.595                         1.305   \n",
      "1                       2.383                         1.456   \n",
      "2                       2.370                         1.351   \n",
      "3                       2.426                         1.343   \n",
      "4                       2.320                         1.420   \n",
      "\n",
      "   Explained by: Social support  Explained by: Healthy life expectancy  \\\n",
      "0                         1.592                                  0.874   \n",
      "1                         1.582                                  0.861   \n",
      "2                         1.590                                  0.868   \n",
      "3                         1.644                                  0.914   \n",
      "4                         1.549                                  0.927   \n",
      "\n",
      "   Explained by: Freedom to make life choices  Explained by: Generosity  \\\n",
      "0                                       0.681                     0.192   \n",
      "1                                       0.686                     0.286   \n",
      "2                                       0.683                     0.284   \n",
      "3                                       0.677                     0.353   \n",
      "4                                       0.660                     0.256   \n",
      "\n",
      "   Explained by: Perceptions of corruption  \n",
      "0                                    0.393  \n",
      "1                                    0.340  \n",
      "2                                    0.408  \n",
      "3                                    0.138  \n",
      "4                                    0.357  \n",
      "<class 'pandas.core.frame.DataFrame'>\n",
      "RangeIndex: 156 entries, 0 to 155\n",
      "Data columns (total 11 columns):\n",
      " #   Column                                      Non-Null Count  Dtype  \n",
      "---  ------                                      --------------  -----  \n",
      " 0   Country                                     156 non-null    object \n",
      " 1   Happiness score                             156 non-null    float64\n",
      " 2   Whisker-high                                156 non-null    float64\n",
      " 3   Whisker-low                                 156 non-null    float64\n",
      " 4   Dystopia (1.92) + residual                  156 non-null    float64\n",
      " 5   Explained by: GDP per capita                156 non-null    float64\n",
      " 6   Explained by: Social support                156 non-null    float64\n",
      " 7   Explained by: Healthy life expectancy       156 non-null    float64\n",
      " 8   Explained by: Freedom to make life choices  156 non-null    float64\n",
      " 9   Explained by: Generosity                    156 non-null    float64\n",
      " 10  Explained by: Perceptions of corruption     156 non-null    float64\n",
      "dtypes: float64(10), object(1)\n",
      "memory usage: 13.5+ KB\n",
      "None\n"
     ]
    }
   ],
   "source": [
    "txt_path = r\"C:\\Users\\qaism\\OneDrive - University of Virginia\\Documents\\GitHub\\MSDS\\DS 6001\\Lab2\\lab2data\\data3.txt\"\n",
    "data3 = pd.read_csv(txt_path, skiprows=2, sep='\\t')\n",
    "print(data3.head())\n",
    "print(data3.info())"
   ]
  },
  {
   "cell_type": "markdown",
   "metadata": {},
   "source": [
    "**Answer:** To load data3.txt, I skipped the first two rows containing metadata using skiprows=2 and specified the file as tab-separated using sep='\\t'."
   ]
  },
  {
   "cell_type": "markdown",
   "metadata": {},
   "source": [
    "## Problem 4\n",
    "Load `data4.txt`. Use the tools we discussed in class to decide whether the data file loaded correctly, and include that code in your lab report. In one or two sentences, describe how you decided on the right combination of parameters needed to load the data. (1 point)"
   ]
  },
  {
   "cell_type": "code",
   "execution_count": 7,
   "metadata": {},
   "outputs": [
    {
     "name": "stdout",
     "output_type": "stream",
     "text": [
      "       Country  Happiness score  Whisker-high  Whisker-low  \\\n",
      "0      Finland            7.632         7.695        7.569   \n",
      "1       Norway            7.594         7.657        7.530   \n",
      "2      Denmark            7.555         7.623        7.487   \n",
      "3      Iceland            7.495         7.593        7.398   \n",
      "4  Switzerland            7.487         7.570        7.405   \n",
      "\n",
      "   Dystopia (1.92) + residual  Explained by: GDP per capita  \\\n",
      "0                       2.595                         1.305   \n",
      "1                       2.383                         1.456   \n",
      "2                       2.370                         1.351   \n",
      "3                       2.426                         1.343   \n",
      "4                       2.320                         1.420   \n",
      "\n",
      "   Explained by: Social support  Explained by: Healthy life expectancy  \\\n",
      "0                         1.592                                  0.874   \n",
      "1                         1.582                                  0.861   \n",
      "2                         1.590                                  0.868   \n",
      "3                         1.644                                  0.914   \n",
      "4                         1.549                                  0.927   \n",
      "\n",
      "   Explained by: Freedom to make life choices  Explained by: Generosity  \\\n",
      "0                                       0.681                     0.192   \n",
      "1                                       0.686                     0.286   \n",
      "2                                       0.683                     0.284   \n",
      "3                                       0.677                     0.353   \n",
      "4                                       0.660                     0.256   \n",
      "\n",
      "   Explained by: Perceptions of corruption  \n",
      "0                                    0.393  \n",
      "1                                    0.340  \n",
      "2                                    0.408  \n",
      "3                                    0.138  \n",
      "4                                    0.357  \n",
      "<class 'pandas.core.frame.DataFrame'>\n",
      "RangeIndex: 156 entries, 0 to 155\n",
      "Data columns (total 11 columns):\n",
      " #   Column                                      Non-Null Count  Dtype  \n",
      "---  ------                                      --------------  -----  \n",
      " 0   Country                                     156 non-null    object \n",
      " 1   Happiness score                             156 non-null    float64\n",
      " 2   Whisker-high                                156 non-null    float64\n",
      " 3   Whisker-low                                 156 non-null    float64\n",
      " 4   Dystopia (1.92) + residual                  156 non-null    float64\n",
      " 5   Explained by: GDP per capita                156 non-null    float64\n",
      " 6   Explained by: Social support                156 non-null    float64\n",
      " 7   Explained by: Healthy life expectancy       156 non-null    float64\n",
      " 8   Explained by: Freedom to make life choices  156 non-null    float64\n",
      " 9   Explained by: Generosity                    156 non-null    float64\n",
      " 10  Explained by: Perceptions of corruption     156 non-null    float64\n",
      "dtypes: float64(10), object(1)\n",
      "memory usage: 13.5+ KB\n",
      "None\n"
     ]
    }
   ],
   "source": [
    "txt_path = r\"C:\\Users\\qaism\\OneDrive - University of Virginia\\Documents\\GitHub\\MSDS\\DS 6001\\Lab2\\lab2data\\data4.txt\"\n",
    "column_names = [\"Country\", \"Happiness score\", \"Whisker-high\", \"Whisker-low\",\n",
    "                \"Dystopia (1.92) + residual\", \"Explained by: GDP per capita\",\n",
    "                \"Explained by: Social support\", \"Explained by: Healthy life expectancy\",\n",
    "                \"Explained by: Freedom to make life choices\", \"Explained by: Generosity\",\n",
    "                \"Explained by: Perceptions of corruption\"]\n",
    "data4 = pd.read_csv(txt_path, sep='$', names=column_names)\n",
    "print(data4.head())\n",
    "print(data4.info())"
   ]
  },
  {
   "cell_type": "markdown",
   "metadata": {},
   "source": [
    "**Answer:** To load data4.txt correctly, I specified the delimiter as $ using sep='$' and assigned the appropriate column names to the DataFrame."
   ]
  },
  {
   "cell_type": "markdown",
   "metadata": {},
   "source": [
    "## Problem 5\n",
    "Load `data5.csv`. Use the tools we discussed in class to decide whether the data file loaded correctly, and include that code in your lab report. In one or two sentences, describe how you decided on the right combination of parameters needed to load the data. (1 point)"
   ]
  },
  {
   "cell_type": "code",
   "execution_count": 8,
   "metadata": {},
   "outputs": [
    {
     "name": "stdout",
     "output_type": "stream",
     "text": [
      "       Country  Happiness score  Whisker-high  Whisker-low  \\\n",
      "0      Finland            7.632         7.695        7.569   \n",
      "1       Norway            7.594         7.657        7.530   \n",
      "2      Denmark            7.555         7.623        7.487   \n",
      "3      Iceland            7.495         7.593        7.398   \n",
      "4  Switzerland            7.487         7.570        7.405   \n",
      "\n",
      "   Dystopia (1.92) + residual  Explained by: GDP per capita  \\\n",
      "0                       2.595                         1.305   \n",
      "1                       2.383                         1.456   \n",
      "2                       2.370                         1.351   \n",
      "3                       2.426                         1.343   \n",
      "4                       2.320                         1.420   \n",
      "\n",
      "   Explained by: Social support  Explained by: Healthy life expectancy  \\\n",
      "0                         1.592                                  0.874   \n",
      "1                         1.582                                  0.861   \n",
      "2                         1.590                                  0.868   \n",
      "3                         1.644                                  0.914   \n",
      "4                         1.549                                  0.927   \n",
      "\n",
      "   Explained by: Freedom to make life choices  Explained by: Generosity  \\\n",
      "0                                       0.681                     0.192   \n",
      "1                                       0.686                     0.286   \n",
      "2                                       0.683                     0.284   \n",
      "3                                       0.677                     0.353   \n",
      "4                                       0.660                     0.256   \n",
      "\n",
      "   Explained by: Perceptions of corruption  \n",
      "0                                    0.393  \n",
      "1                                    0.340  \n",
      "2                                    0.408  \n",
      "3                                    0.138  \n",
      "4                                    0.357  \n",
      "<class 'pandas.core.frame.DataFrame'>\n",
      "RangeIndex: 158 entries, 0 to 157\n",
      "Data columns (total 11 columns):\n",
      " #   Column                                      Non-Null Count  Dtype  \n",
      "---  ------                                      --------------  -----  \n",
      " 0   Country                                     158 non-null    object \n",
      " 1   Happiness score                             156 non-null    float64\n",
      " 2   Whisker-high                                156 non-null    float64\n",
      " 3   Whisker-low                                 156 non-null    float64\n",
      " 4   Dystopia (1.92) + residual                  156 non-null    float64\n",
      " 5   Explained by: GDP per capita                156 non-null    float64\n",
      " 6   Explained by: Social support                156 non-null    float64\n",
      " 7   Explained by: Healthy life expectancy       156 non-null    float64\n",
      " 8   Explained by: Freedom to make life choices  156 non-null    float64\n",
      " 9   Explained by: Generosity                    156 non-null    float64\n",
      " 10  Explained by: Perceptions of corruption     156 non-null    float64\n",
      "dtypes: float64(10), object(1)\n",
      "memory usage: 13.7+ KB\n",
      "None\n"
     ]
    }
   ],
   "source": [
    "csv_path = r\"C:\\Users\\qaism\\OneDrive - University of Virginia\\Documents\\GitHub\\MSDS\\DS 6001\\Lab2\\lab2data\\data5.csv\"\n",
    "data5 = pd.read_csv(csv_path)\n",
    "print(data5.head())\n",
    "print(data5.info())"
   ]
  },
  {
   "cell_type": "markdown",
   "metadata": {},
   "source": [
    "**Answer:** To load data5.csv, I used the pd.read_csv() function without additional parameters."
   ]
  },
  {
   "cell_type": "markdown",
   "metadata": {},
   "source": [
    "## Problem 6\n",
    "Load `data6.dat`. Use the tools we discussed in class to decide whether the data file loaded correctly, and include that code in your lab report. In one or two sentences, describe how you decided on the right combination of parameters needed to load the data. (1 point)"
   ]
  },
  {
   "cell_type": "code",
   "execution_count": 9,
   "metadata": {},
   "outputs": [
    {
     "name": "stdout",
     "output_type": "stream",
     "text": [
      "       Country  Happiness score  Whisker-high  Whisker-low  \\\n",
      "0      Finland            7.632         7.695        7.569   \n",
      "1       Norway            7.594         7.657        7.530   \n",
      "2      Denmark            7.555         7.623        7.487   \n",
      "3      Iceland            7.495         7.593      999.000   \n",
      "4  Switzerland            7.487         7.570        7.405   \n",
      "\n",
      "   Dystopia (1.92) + residual  Explained by: GDP per capita  \\\n",
      "0                       2.595                       999.000   \n",
      "1                     999.000                       999.000   \n",
      "2                       2.370                         1.351   \n",
      "3                       2.426                         1.343   \n",
      "4                       2.320                         1.420   \n",
      "\n",
      "   Explained by: Social support  Explained by: Healthy life expectancy  \\\n",
      "0                       999.000                                999.000   \n",
      "1                         1.582                                999.000   \n",
      "2                         1.590                                999.000   \n",
      "3                         1.644                                  0.914   \n",
      "4                         1.549                                  0.927   \n",
      "\n",
      "   Explained by: Freedom to make life choices  Explained by: Generosity  \\\n",
      "0                                       0.681                     0.192   \n",
      "1                                       0.686                     0.286   \n",
      "2                                       0.683                     0.284   \n",
      "3                                       0.677                     0.353   \n",
      "4                                       0.660                     0.256   \n",
      "\n",
      "   Explained by: Perceptions of corruption  \n",
      "0                                    0.393  \n",
      "1                                    0.340  \n",
      "2                                    0.408  \n",
      "3                                  999.000  \n",
      "4                                    0.357  \n",
      "<class 'pandas.core.frame.DataFrame'>\n",
      "RangeIndex: 156 entries, 0 to 155\n",
      "Data columns (total 11 columns):\n",
      " #   Column                                      Non-Null Count  Dtype  \n",
      "---  ------                                      --------------  -----  \n",
      " 0   Country                                     156 non-null    object \n",
      " 1   Happiness score                             156 non-null    float64\n",
      " 2   Whisker-high                                156 non-null    float64\n",
      " 3   Whisker-low                                 156 non-null    float64\n",
      " 4   Dystopia (1.92) + residual                  156 non-null    float64\n",
      " 5   Explained by: GDP per capita                156 non-null    float64\n",
      " 6   Explained by: Social support                156 non-null    float64\n",
      " 7   Explained by: Healthy life expectancy       156 non-null    float64\n",
      " 8   Explained by: Freedom to make life choices  156 non-null    float64\n",
      " 9   Explained by: Generosity                    156 non-null    float64\n",
      " 10  Explained by: Perceptions of corruption     156 non-null    float64\n",
      "dtypes: float64(10), object(1)\n",
      "memory usage: 13.5+ KB\n",
      "None\n"
     ]
    }
   ],
   "source": [
    "dat_path = r\"C:\\Users\\qaism\\OneDrive - University of Virginia\\Documents\\GitHub\\MSDS\\DS 6001\\Lab2\\lab2data\\data6.dat\"\n",
    "data6 = pd.read_csv(dat_path, sep=',', names=column_names, skiprows=1)\n",
    "print(data6.head())\n",
    "print(data6.info())"
   ]
  },
  {
   "cell_type": "markdown",
   "metadata": {},
   "source": [
    "**Answer:** To load data6.dat correctly, I specified the delimiter as a comma using sep=',' and skipped the first row containing the column headers using skiprows=1."
   ]
  },
  {
   "cell_type": "markdown",
   "metadata": {},
   "source": [
    "## Problem 7\n",
    "Load `data7.xlsx`, which is an Excel file. Keep only the sheet named “Data”. Use the tools we discussed in class to decide whether the data file loaded correctly, and include that code in your lab report. In one or two sentences, describe how you decided on the right combination of parameters needed to load the data. (2 points)"
   ]
  },
  {
   "cell_type": "code",
   "execution_count": 12,
   "metadata": {},
   "outputs": [
    {
     "name": "stdout",
     "output_type": "stream",
     "text": [
      "       Country  Happiness score  Whisker-high  Whisker-low  \\\n",
      "0      Finland            7.632         7.695        7.569   \n",
      "1       Norway            7.594         7.657        7.530   \n",
      "2      Denmark            7.555         7.623        7.487   \n",
      "3      Iceland            7.495         7.593        7.398   \n",
      "4  Switzerland            7.487         7.570        7.405   \n",
      "\n",
      "   Dystopia (1.92) + residual  Explained by: GDP per capita  \\\n",
      "0                       2.595                         1.305   \n",
      "1                       2.383                         1.456   \n",
      "2                       2.370                         1.351   \n",
      "3                       2.426                         1.343   \n",
      "4                       2.320                         1.420   \n",
      "\n",
      "   Explained by: Social support  Explained by: Healthy life expectancy  \\\n",
      "0                         1.592                                  0.874   \n",
      "1                         1.582                                  0.861   \n",
      "2                         1.590                                  0.868   \n",
      "3                         1.644                                  0.914   \n",
      "4                         1.549                                  0.927   \n",
      "\n",
      "   Explained by: Freedom to make life choices  Explained by: Generosity  \\\n",
      "0                                       0.681                     0.192   \n",
      "1                                       0.686                     0.286   \n",
      "2                                       0.683                     0.284   \n",
      "3                                       0.677                     0.353   \n",
      "4                                       0.660                     0.256   \n",
      "\n",
      "   Explained by: Perceptions of corruption  \n",
      "0                                    0.393  \n",
      "1                                    0.340  \n",
      "2                                    0.408  \n",
      "3                                    0.138  \n",
      "4                                    0.357  \n",
      "<class 'pandas.core.frame.DataFrame'>\n",
      "RangeIndex: 156 entries, 0 to 155\n",
      "Data columns (total 11 columns):\n",
      " #   Column                                      Non-Null Count  Dtype  \n",
      "---  ------                                      --------------  -----  \n",
      " 0   Country                                     156 non-null    object \n",
      " 1   Happiness score                             156 non-null    float64\n",
      " 2   Whisker-high                                156 non-null    float64\n",
      " 3   Whisker-low                                 156 non-null    float64\n",
      " 4   Dystopia (1.92) + residual                  156 non-null    float64\n",
      " 5   Explained by: GDP per capita                156 non-null    float64\n",
      " 6   Explained by: Social support                156 non-null    float64\n",
      " 7   Explained by: Healthy life expectancy       156 non-null    float64\n",
      " 8   Explained by: Freedom to make life choices  156 non-null    float64\n",
      " 9   Explained by: Generosity                    156 non-null    float64\n",
      " 10  Explained by: Perceptions of corruption     156 non-null    float64\n",
      "dtypes: float64(10), object(1)\n",
      "memory usage: 13.5+ KB\n",
      "None\n"
     ]
    }
   ],
   "source": [
    "import openpyxl as px\n",
    "\n",
    "xlsx_path = r\"C:\\Users\\qaism\\OneDrive - University of Virginia\\Documents\\GitHub\\MSDS\\DS 6001\\Lab2\\lab2data\\data7.xlsx\"\n",
    "data7 = pd.read_excel(xlsx_path, sheet_name='Data')\n",
    "print(data7.head())\n",
    "print(data7.info())"
   ]
  },
  {
   "cell_type": "markdown",
   "metadata": {},
   "source": [
    "**Answer:** To load data7.xlsx correctly, I specified the sheet name as \"Data\" using sheet_name='Data'. "
   ]
  },
  {
   "cell_type": "markdown",
   "metadata": {},
   "source": [
    "## Problem 8\n",
    "Load `data8.dta`, which is a Stata 13 file. Use the tools we discussed in class to decide whether the data file loaded correctly, and include that code in your lab report. In one or two sentences, describe how you decided on the right combination of parameters needed to load the data. (2 points)"
   ]
  },
  {
   "cell_type": "code",
   "execution_count": 13,
   "metadata": {},
   "outputs": [
    {
     "name": "stdout",
     "output_type": "stream",
     "text": [
      "       country  happinessscore  whiskerhigh  whiskerlow  dystopia192residual  \\\n",
      "0      Finland           7.632        7.695       7.569                2.595   \n",
      "1       Norway           7.594        7.657       7.530                2.383   \n",
      "2      Denmark           7.555        7.623       7.487                2.370   \n",
      "3      Iceland           7.495        7.593       7.398                2.426   \n",
      "4  Switzerland           7.487        7.570       7.405                2.320   \n",
      "\n",
      "   explainedbygdppercapita  explainedbysocialsupport  \\\n",
      "0                    1.305                     1.592   \n",
      "1                    1.456                     1.582   \n",
      "2                    1.351                     1.590   \n",
      "3                    1.343                     1.644   \n",
      "4                    1.420                     1.549   \n",
      "\n",
      "   explainedbyhealthylifeexpectancy  explainedbyfreedomtomakelifechoi  \\\n",
      "0                             0.874                             0.681   \n",
      "1                             0.861                             0.686   \n",
      "2                             0.868                             0.683   \n",
      "3                             0.914                             0.677   \n",
      "4                             0.927                             0.660   \n",
      "\n",
      "   explainedbygenerosity  explainedbyperceptionsofcorrupti  \n",
      "0                  0.192                             0.393  \n",
      "1                  0.286                             0.340  \n",
      "2                  0.284                             0.408  \n",
      "3                  0.353                             0.138  \n",
      "4                  0.256                             0.357  \n",
      "<class 'pandas.core.frame.DataFrame'>\n",
      "RangeIndex: 156 entries, 0 to 155\n",
      "Data columns (total 11 columns):\n",
      " #   Column                            Non-Null Count  Dtype  \n",
      "---  ------                            --------------  -----  \n",
      " 0   country                           156 non-null    object \n",
      " 1   happinessscore                    156 non-null    float32\n",
      " 2   whiskerhigh                       156 non-null    float32\n",
      " 3   whiskerlow                        156 non-null    float32\n",
      " 4   dystopia192residual               156 non-null    float32\n",
      " 5   explainedbygdppercapita           156 non-null    float32\n",
      " 6   explainedbysocialsupport          156 non-null    float32\n",
      " 7   explainedbyhealthylifeexpectancy  156 non-null    float32\n",
      " 8   explainedbyfreedomtomakelifechoi  156 non-null    float32\n",
      " 9   explainedbygenerosity             156 non-null    float32\n",
      " 10  explainedbyperceptionsofcorrupti  156 non-null    float32\n",
      "dtypes: float32(10), object(1)\n",
      "memory usage: 7.4+ KB\n",
      "None\n"
     ]
    }
   ],
   "source": [
    "dta_path = r\"C:\\Users\\qaism\\OneDrive - University of Virginia\\Documents\\GitHub\\MSDS\\DS 6001\\Lab2\\lab2data\\data8.dta\"\n",
    "data8 = pd.read_stata(dta_path)\n",
    "print(data8.head())\n",
    "print(data8.info())"
   ]
  },
  {
   "cell_type": "markdown",
   "metadata": {},
   "source": [
    "**Answer:** To load data8.dta correctly, I used the pd.read_stata() function without additional parameters."
   ]
  },
  {
   "cell_type": "markdown",
   "metadata": {},
   "source": [
    "## Problem 9\n",
    "Load `data9.sav`, which is an SPSS file. Use the tools we discussed in class to decide whether the data file loaded correctly, and include that code in your lab report. In one or two sentences, describe how you decided on the right combination of parameters needed to load the data. (2 points)"
   ]
  },
  {
   "cell_type": "code",
   "execution_count": 14,
   "metadata": {},
   "outputs": [
    {
     "name": "stdout",
     "output_type": "stream",
     "text": [
      "       country  happiness  whiskerhigh  whiskerlow  dystopia  gdpPC  \\\n",
      "0      Finland      7.632        7.695       7.569     2.595  1.305   \n",
      "1       Norway      7.594        7.657       7.530     2.383  1.456   \n",
      "2      Denmark      7.555        7.623       7.487     2.370  1.351   \n",
      "3      Iceland      7.495        7.593       7.398     2.426  1.343   \n",
      "4  Switzerland      7.487        7.570       7.405     2.320  1.420   \n",
      "\n",
      "   socsupport  lifeexp  lifechoice  generous  corrupt  \n",
      "0       1.592    0.874       0.681     0.192    0.393  \n",
      "1       1.582    0.861       0.686     0.286    0.340  \n",
      "2       1.590    0.868       0.683     0.284    0.408  \n",
      "3       1.644    0.914       0.677     0.353    0.138  \n",
      "4       1.549    0.927       0.660     0.256    0.357  \n",
      "<class 'pandas.core.frame.DataFrame'>\n",
      "RangeIndex: 156 entries, 0 to 155\n",
      "Data columns (total 11 columns):\n",
      " #   Column       Non-Null Count  Dtype  \n",
      "---  ------       --------------  -----  \n",
      " 0   country      156 non-null    object \n",
      " 1   happiness    156 non-null    float64\n",
      " 2   whiskerhigh  156 non-null    float64\n",
      " 3   whiskerlow   156 non-null    float64\n",
      " 4   dystopia     156 non-null    float64\n",
      " 5   gdpPC        156 non-null    float64\n",
      " 6   socsupport   156 non-null    float64\n",
      " 7   lifeexp      156 non-null    float64\n",
      " 8   lifechoice   156 non-null    float64\n",
      " 9   generous     156 non-null    float64\n",
      " 10  corrupt      156 non-null    float64\n",
      "dtypes: float64(10), object(1)\n",
      "memory usage: 13.5+ KB\n",
      "None\n"
     ]
    }
   ],
   "source": [
    "sav_path = r\"C:\\Users\\qaism\\OneDrive - University of Virginia\\Documents\\GitHub\\MSDS\\DS 6001\\Lab2\\lab2data\\data9.sav\"\n",
    "data9 = pd.read_spss(sav_path)\n",
    "print(data9.head())\n",
    "print(data9.info())"
   ]
  },
  {
   "cell_type": "markdown",
   "metadata": {},
   "source": [
    "**Answer:** To load data9.sav correctly, I used the pd.read_spss() function, which uses pyreadstat internally."
   ]
  },
  {
   "cell_type": "markdown",
   "metadata": {},
   "source": [
    "## Problem 10\n",
    "Load `data10.xpt`, which is a SAS file. Use the tools we discussed in class to decide whether the data file loaded correctly, and include that code in your lab report. In one or two sentences, describe how you decided on the right combination of parameters needed to load the data. (If some of the country names display as `b'Finland'`, don't worry aout that.) (2 points)"
   ]
  },
  {
   "cell_type": "code",
   "execution_count": 15,
   "metadata": {},
   "outputs": [
    {
     "name": "stdout",
     "output_type": "stream",
     "text": [
      "          COUNTRY  HAPPINES  WHISKERH  WHISKERL  DYSTOPIA  EXPLAINE  EXPLAIN2  \\\n",
      "0      b'Finland'     7.632     7.695     7.569     2.595     1.305     1.592   \n",
      "1       b'Norway'     7.594     7.657     7.530     2.383     1.456     1.582   \n",
      "2      b'Denmark'     7.555     7.623     7.487     2.370     1.351     1.590   \n",
      "3      b'Iceland'     7.495     7.593     7.398     2.426     1.343     1.644   \n",
      "4  b'Switzerland'     7.487     7.570     7.405     2.320     1.420     1.549   \n",
      "\n",
      "   EXPLAIN3  EXPLAIN4  EXPLAIN5  EXPLAIN6  \n",
      "0     0.874     0.681     0.192     0.393  \n",
      "1     0.861     0.686     0.286     0.340  \n",
      "2     0.868     0.683     0.284     0.408  \n",
      "3     0.914     0.677     0.353     0.138  \n",
      "4     0.927     0.660     0.256     0.357  \n",
      "<class 'pandas.core.frame.DataFrame'>\n",
      "RangeIndex: 156 entries, 0 to 155\n",
      "Data columns (total 11 columns):\n",
      " #   Column    Non-Null Count  Dtype  \n",
      "---  ------    --------------  -----  \n",
      " 0   COUNTRY   156 non-null    object \n",
      " 1   HAPPINES  156 non-null    float64\n",
      " 2   WHISKERH  156 non-null    float64\n",
      " 3   WHISKERL  156 non-null    float64\n",
      " 4   DYSTOPIA  156 non-null    float64\n",
      " 5   EXPLAINE  156 non-null    float64\n",
      " 6   EXPLAIN2  156 non-null    float64\n",
      " 7   EXPLAIN3  156 non-null    float64\n",
      " 8   EXPLAIN4  156 non-null    float64\n",
      " 9   EXPLAIN5  156 non-null    float64\n",
      " 10  EXPLAIN6  156 non-null    float64\n",
      "dtypes: float64(10), object(1)\n",
      "memory usage: 13.5+ KB\n",
      "None\n"
     ]
    }
   ],
   "source": [
    "xpt_path = r\"C:\\Users\\qaism\\OneDrive - University of Virginia\\Documents\\GitHub\\MSDS\\DS 6001\\Lab2\\lab2data\\data10.xpt\"\n",
    "data10 = pd.read_sas(xpt_path, format='xport')\n",
    "print(data10.head())\n",
    "print(data10.info())"
   ]
  },
  {
   "cell_type": "markdown",
   "metadata": {},
   "source": [
    "**Answer:** To load data10.xpt I used the pd.read_sas() function with format='xport' to read the SAS file and then displayed the first few rows and DataFrame information"
   ]
  },
  {
   "cell_type": "markdown",
   "metadata": {},
   "source": [
    "## Problem 11\n",
    "Please load the `data11.txt` file, which is a fixed width file. The columns are defined as follows:\n",
    "\n",
    "| Variable                                   | Width | Start | End |\n",
    "|--------------------------------------------|-------|-------|-----|\n",
    "| Country                                    | 24    | 1     | 24  |\n",
    "| Happiness score                            | 5     | 25    | 29  |\n",
    "| Whisker-high                               | 5     | 30    | 34  |\n",
    "| Whisker-low                                | 5     | 35    | 39  |\n",
    "| Dystopia (1.92) + residual                 | 5     | 40    | 44  |\n",
    "| Explained by: GDP per capita               | 5     | 45    | 49  |\n",
    "| Explained by: Social support               | 5     | 50    | 54  |\n",
    "| Explained by: Healthy life expectancy      | 5     | 55    | 59  |\n",
    "| Explained by: Freedom to make life choices | 5     | 60    | 64  |\n",
    "| Explained by: Generosity                   | 5     | 65    | 69  |\n",
    "| Explained by: Perceptions of corruption    | 5     | 70    | 74  |\n",
    "\n",
    "Then save the this loaded data frame as a CSV file on your local machine. Be sure to use a unique filename so as not to overwrite any existing files. (5 points)"
   ]
  },
  {
   "cell_type": "code",
   "execution_count": 16,
   "metadata": {},
   "outputs": [
    {
     "name": "stdout",
     "output_type": "stream",
     "text": [
      "       Country  Happiness score  Whisker-high  Whisker-low  \\\n",
      "0      Finland            7.632         7.695        7.569   \n",
      "1       Norway            7.594         7.657        7.530   \n",
      "2      Denmark            7.555         7.623        7.487   \n",
      "3      Iceland            7.495         7.593        7.398   \n",
      "4  Switzerland            7.487         7.570        7.405   \n",
      "\n",
      "   Dystopia (1.92) + residual  Explained by: GDP per capita  \\\n",
      "0                       2.595                         1.305   \n",
      "1                       2.383                         1.456   \n",
      "2                       2.370                         1.351   \n",
      "3                       2.426                         1.343   \n",
      "4                       2.320                         1.420   \n",
      "\n",
      "   Explained by: Social support  Explained by: Healthy life expectancy  \\\n",
      "0                         1.592                                  0.874   \n",
      "1                         1.582                                  0.861   \n",
      "2                         1.590                                  0.868   \n",
      "3                         1.644                                  0.914   \n",
      "4                         1.549                                  0.927   \n",
      "\n",
      "   Explained by: Freedom to make life choices  Explained by: Generosity  \\\n",
      "0                                       0.681                     0.192   \n",
      "1                                       0.686                     0.286   \n",
      "2                                       0.683                     0.284   \n",
      "3                                       0.677                     0.353   \n",
      "4                                       0.660                     0.256   \n",
      "\n",
      "   Explained by: Perceptions of corruption  \n",
      "0                                    0.393  \n",
      "1                                    0.340  \n",
      "2                                    0.408  \n",
      "3                                    0.138  \n",
      "4                                    0.357  \n",
      "<class 'pandas.core.frame.DataFrame'>\n",
      "RangeIndex: 156 entries, 0 to 155\n",
      "Data columns (total 11 columns):\n",
      " #   Column                                      Non-Null Count  Dtype  \n",
      "---  ------                                      --------------  -----  \n",
      " 0   Country                                     156 non-null    object \n",
      " 1   Happiness score                             156 non-null    float64\n",
      " 2   Whisker-high                                156 non-null    float64\n",
      " 3   Whisker-low                                 156 non-null    float64\n",
      " 4   Dystopia (1.92) + residual                  156 non-null    float64\n",
      " 5   Explained by: GDP per capita                156 non-null    float64\n",
      " 6   Explained by: Social support                156 non-null    float64\n",
      " 7   Explained by: Healthy life expectancy       156 non-null    float64\n",
      " 8   Explained by: Freedom to make life choices  156 non-null    float64\n",
      " 9   Explained by: Generosity                    156 non-null    float64\n",
      " 10  Explained by: Perceptions of corruption     156 non-null    float64\n",
      "dtypes: float64(10), object(1)\n",
      "memory usage: 13.5+ KB\n",
      "None\n"
     ]
    }
   ],
   "source": [
    "colspecs = [(0, 24), (24, 29), (29, 34), (34, 39), (39, 44), (44, 49), (49, 54), \n",
    "            (54, 59), (59, 64), (64, 69), (69, 74)]\n",
    "\n",
    "data11 = pd.read_fwf(r\"C:\\Users\\qaism\\OneDrive - University of Virginia\\Documents\\GitHub\\MSDS\\DS 6001\\Lab2\\lab2data\\data11.txt\", \n",
    "                     colspecs=colspecs, names=column_names)\n",
    "print(data11.head())\n",
    "print(data11.info())\n",
    "data11unique = r\"C:\\Users\\qaism\\OneDrive - University of Virginia\\Documents\\GitHub\\MSDS\\DS 6001\\Lab2\\lab2data\\data11_loaded.csv\"\n",
    "data11.to_csv(data11unique, index=False)\n"
   ]
  },
  {
   "cell_type": "markdown",
   "metadata": {},
   "source": [
    "To load data11.txt, I specified the fixed-width format for the columns using colspecs and assigned the appropriate column names. Colspecs follows python's indexing rules"
   ]
  }
 ],
 "metadata": {
  "kernelspec": {
   "display_name": "Python 3",
   "language": "python",
   "name": "python3"
  },
  "language_info": {
   "codemirror_mode": {
    "name": "ipython",
    "version": 3
   },
   "file_extension": ".py",
   "mimetype": "text/x-python",
   "name": "python",
   "nbconvert_exporter": "python",
   "pygments_lexer": "ipython3",
   "version": "3.11.9"
  }
 },
 "nbformat": 4,
 "nbformat_minor": 4
}
