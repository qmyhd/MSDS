{
 "cells": [
  {
   "cell_type": "markdown",
   "metadata": {},
   "source": [
    "# Lab Assignment 1\n",
    "\n",
    "**Qais Youssef**  \n",
    "**QMY6CV**"
   ]
  },
  {
   "cell_type": "markdown",
   "metadata": {},
   "source": [
    "### Problem 0 "
   ]
  },
  {
   "cell_type": "code",
   "execution_count": 8,
   "metadata": {},
   "outputs": [],
   "source": [
    "import numpy as np\n",
    "import pandas as pd\n",
    "import os\n",
    "import math"
   ]
  },
  {
   "cell_type": "markdown",
   "metadata": {},
   "source": [
    "### Problem 1\n"
   ]
  },
  {
   "cell_type": "markdown",
   "metadata": {},
   "source": [
    "**Stack Overflow Post**\n",
    "\n",
    "After reviewing the post, I found about 7 unique solutions for renaming columns in Pandas.\n",
    "The problem with using google and stack overflow as the first source includes: 1- Reliance on outdated methods and techniques. 2- Creating more confusion: The variety of solutions can be overwhelming and lead to incorrect implementations. \n",
    "\n"
   ]
  },
  {
   "cell_type": "markdown",
   "metadata": {},
   "source": [
    "### Problem 2\n"
   ]
  },
  {
   "cell_type": "code",
   "execution_count": 9,
   "metadata": {},
   "outputs": [
    {
     "name": "stdout",
     "output_type": "stream",
     "text": [
      "Docstring for numpy.log:\n",
      "\n",
      "log(x, /, out=None, *, where=True, casting='same_kind', order='K', dtype=None, subok=True[, signature, extobj])\n",
      "\n",
      "Natural logarithm, element-wise.\n",
      "\n",
      "The natural logarithm `log` is the inverse of the exponential function,\n",
      "so that `log(exp(x)) = x`. The natural logarithm is logarithm in base\n",
      "`e`.\n",
      "\n",
      "Parameters\n",
      "----------\n",
      "x : array_like\n",
      "    Input value.\n",
      "out : ndarray, None, or tuple of ndarray and None, optional\n",
      "    A location into which the result is stored. If provided, it must have\n",
      "    a shape that the inputs broadcast to. If not provided or None,\n",
      "    a freshly-allocated array is returned. A tuple (possible only as a\n",
      "    keyword argument) must have length equal to the number of outputs.\n",
      "where : array_like, optional\n",
      "    This condition is broadcast over the input. At locations where the\n",
      "    condition is True, the `out` array will be set to the ufunc result.\n",
      "    Elsewhere, the `out` array will retain its original value.\n",
      "    Note that if an uninitialized `out` array is created via the default\n",
      "    ``out=None``, locations within it where the condition is False will\n",
      "    remain uninitialized.\n",
      "**kwargs\n",
      "    For other keyword-only arguments, see the\n",
      "    :ref:`ufunc docs <ufuncs.kwargs>`.\n",
      "\n",
      "Returns\n",
      "-------\n",
      "y : ndarray\n",
      "    The natural logarithm of `x`, element-wise.\n",
      "    This is a scalar if `x` is a scalar.\n",
      "\n",
      "See Also\n",
      "--------\n",
      "log10, log2, log1p, emath.log\n",
      "\n",
      "Notes\n",
      "-----\n",
      "Logarithm is a multivalued function: for each `x` there is an infinite\n",
      "number of `z` such that `exp(z) = x`. The convention is to return the\n",
      "`z` whose imaginary part lies in `(-pi, pi]`.\n",
      "\n",
      "For real-valued input data types, `log` always returns real output. For\n",
      "each value that cannot be expressed as a real number or infinity, it\n",
      "yields ``nan`` and sets the `invalid` floating point error flag.\n",
      "\n",
      "For complex-valued input, `log` is a complex analytical function that\n",
      "has a branch cut `[-inf, 0]` and is continuous from above on it. `log`\n",
      "handles the floating-point negative zero as an infinitesimal negative\n",
      "number, conforming to the C99 standard.\n",
      "\n",
      "In the cases where the input has a negative real part and a very small\n",
      "negative complex part (approaching 0), the result is so close to `-pi`\n",
      "that it evaluates to exactly `-pi`.\n",
      "\n",
      "References\n",
      "----------\n",
      ".. [1] M. Abramowitz and I.A. Stegun, \"Handbook of Mathematical Functions\",\n",
      "       10th printing, 1964, pp. 67.\n",
      "       https://personal.math.ubc.ca/~cbm/aands/page_67.htm\n",
      ".. [2] Wikipedia, \"Logarithm\". https://en.wikipedia.org/wiki/Logarithm\n",
      "\n",
      "Examples\n",
      "--------\n",
      ">>> np.log([1, np.e, np.e**2, 0])\n",
      "array([  0.,   1.,   2., -Inf])\n",
      "\n",
      "Docstring for math.log:\n",
      "\n",
      "log(x, [base=math.e])\n",
      "Return the logarithm of x to the given base.\n",
      "\n",
      "If the base not specified, returns the natural logarithm (base e) of x.\n"
     ]
    }
   ],
   "source": [
    "print(\"Docstring for numpy.log:\\n\")\n",
    "print(np.log.__doc__)\n",
    "print(\"\\nDocstring for math.log:\\n\")\n",
    "print(math.log.__doc__)"
   ]
  },
  {
   "cell_type": "markdown",
   "metadata": {},
   "source": [
    "The numpy.log function computes the natural logarithm (base e) of each element in an array. The math.log function computes the natural logarithm (base e) of a single number. \n",
    "Neither function directly supports logarithms with an arbitrary base."
   ]
  },
  {
   "cell_type": "markdown",
   "metadata": {},
   "source": [
    "Both functions compute the natural logarithm by default, we must use the change-of-base formula"
   ]
  },
  {
   "cell_type": "code",
   "execution_count": 10,
   "metadata": {},
   "outputs": [
    {
     "data": {
      "text/plain": [
       "(1.7712437491614221, 1.7712437491614221)"
      ]
     },
     "execution_count": 10,
     "metadata": {},
     "output_type": "execute_result"
    }
   ],
   "source": [
    "number = 7\n",
    "\n",
    "log_numpy = np.log(number) / np.log(3)\n",
    "\n",
    "# Calculate log base 3 using math\n",
    "log_math = math.log(number) / math.log(3)\n",
    "\n",
    "log_math, log_numpy"
   ]
  },
  {
   "cell_type": "markdown",
   "metadata": {},
   "source": [
    "### Problem 3"
   ]
  },
  {
   "cell_type": "markdown",
   "metadata": {},
   "source": [
    "<img src=\"6001screenshotds.png\" width=600>"
   ]
  },
  {
   "cell_type": "markdown",
   "metadata": {},
   "source": [
    "### Problem 4\n",
    "**Link**\n",
    "(https://stackoverflow.com/questions/2612802/how-do-i-clone-a-list-so-that-it-doesnt-change-unexpectedly-after-assignmentx)\n",
    "**Description:**\n",
    "In this question, the answerer shows passive toxic behavior in several comments. For example, the user \"Andrew\" commented, \"new_list = my_list just assigns the name new_list to the object my_list refers to,\" which can be perceived as condescending, stating the obvious without providing a solution. The user \"Bharel\" also commented, \"See the Python FAQ,\" without providing a direct answer or link, which can be seen as dismissive. These types of responses can discourage the questioner and implies that the question is trivial and the questioner should have already known the answer. \n"
   ]
  },
  {
   "cell_type": "markdown",
   "metadata": {},
   "source": [
    "### Problem 5\n",
    "**Link**\n",
    "(https://stackoverflow.com/questions/78660102/how-to-iterate-through-a-python-list-to-get-each-additional-list-element)\n",
    "\n",
    "**Description:**\n",
    "The user self-sabotages by asking the question in a way that frustrates the community, which is apparent by the 3 downvotes they got in a short period. The user asks a basic and commonly addressed question without showing an effort to research or try to solve the problem themselves. This can be seen as lazy or inconsiderate to the community members who are taking their time to help.\n"
   ]
  },
  {
   "cell_type": "markdown",
   "metadata": {},
   "source": [
    "### Problem 6\n",
    "**link** \n",
    "(https://stackoverflow.com/questions/15112125/how-to-test-multiple-variables-for-equality-against-a-single-value)\n",
    "supplement (https://stackoverflow.com/questions/10272898/multiple-if-conditions-in-a-python-list-comprehension)\n",
    "**Search Terms:** python if statement multiple conditions in list. "
   ]
  },
  {
   "cell_type": "code",
   "execution_count": 11,
   "metadata": {},
   "outputs": [
    {
     "name": "stdout",
     "output_type": "stream",
     "text": [
      "Black Widow is an original Avenger!\n",
      "Iron Man is an original Avenger!\n",
      "Hulk is an original Avenger!\n",
      "Spiderman is NOT an original Avenger.\n",
      "Beyonce is NOT an original Avenger.\n"
     ]
    }
   ],
   "source": [
    "def is_avenger(name):\n",
    "    og_avengers = [\"Hulk\", \"Captain America\", \"Iron Man\", \"Black Widow\", \"Hawkeye\", \"Thor\"]\n",
    "    if name in og_avengers:\n",
    "        print(name + \" is an original Avenger!\")\n",
    "    else:\n",
    "        print(name + \" is NOT an original Avenger.\")\n",
    "        \n",
    "is_avenger(\"Black Widow\") \n",
    "is_avenger(\"Iron Man\")    \n",
    "is_avenger(\"Hulk\")         \n",
    "\n",
    "is_avenger(\"Spiderman\")\n",
    "is_avenger(\"Beyonce\") "
   ]
  },
  {
   "cell_type": "markdown",
   "metadata": {},
   "source": [
    "**Part B**\n",
    "*Title for post: How to Correctly Check if a String is One of Multiple Specific Values in Python.*"
   ]
  },
  {
   "cell_type": "markdown",
   "metadata": {},
   "source": [
    "**Description:** I'm working on a Python function to check if a given name is one of the original six Avengers: Hulk, Captain America, Iron Man, Black Widow, Hawkeye, and Thor. If the name is one of these, the function should print that the name is an original Avenger; otherwise, it should print that the name is not an original Avenger."
   ]
  },
  {
   "cell_type": "markdown",
   "metadata": {},
   "source": [
    "**Part C: Minimal Working Example**"
   ]
  },
  {
   "cell_type": "code",
   "execution_count": 12,
   "metadata": {},
   "outputs": [
    {
     "name": "stdout",
     "output_type": "stream",
     "text": [
      "Black Widow is an original Avenger!\n",
      "Iron Man is an original Avenger!\n",
      "Hulk is an original Avenger!\n",
      "Spiderman is an original Avenger!\n",
      "Beyonce is an original Avenger!\n"
     ]
    }
   ],
   "source": [
    "def is_avenger(name):\n",
    "    if name==\"Hulk\" or \"Captain America\" or \"Iron Man\" or \"Black Widow\" or \"Hawkeye\" or \"Thor\":\n",
    "        print(name + \" is an original Avenger!\")\n",
    "    else:\n",
    "        print(name + \" is NOT an original Avenger.\")\n",
    "\n",
    "# Test cases with original Avengers\n",
    "is_avenger(\"Black Widow\")\n",
    "is_avenger(\"Iron Man\")   \n",
    "is_avenger(\"Hulk\")         \n",
    "# Test cases with non-original Avengers\n",
    "is_avenger(\"Spiderman\")    \n",
    "is_avenger(\"Beyonce\")     "
   ]
  },
  {
   "cell_type": "markdown",
   "metadata": {},
   "source": [
    "### Problem 7"
   ]
  },
  {
   "cell_type": "markdown",
   "metadata": {},
   "source": [
    "I have a dataset 'jobs_in_data.csv' with job titles and salaries. I need to filter the data for the years 2022 and 2023 and for specific job titles: Data Analyst, Data Engineer, Data Scientist, and Machine Learning Engineer.  provide the code\n",
    "\n",
    "Included dataset file and path on my device."
   ]
  },
  {
   "cell_type": "code",
   "execution_count": 13,
   "metadata": {},
   "outputs": [
    {
     "data": {
      "text/html": [
       "<div>\n",
       "<style scoped>\n",
       "    .dataframe tbody tr th:only-of-type {\n",
       "        vertical-align: middle;\n",
       "    }\n",
       "\n",
       "    .dataframe tbody tr th {\n",
       "        vertical-align: top;\n",
       "    }\n",
       "\n",
       "    .dataframe thead th {\n",
       "        text-align: right;\n",
       "    }\n",
       "</style>\n",
       "<table border=\"1\" class=\"dataframe\">\n",
       "  <thead>\n",
       "    <tr style=\"text-align: right;\">\n",
       "      <th></th>\n",
       "      <th>work_year</th>\n",
       "      <th>job_title</th>\n",
       "      <th>job_category</th>\n",
       "      <th>salary_currency</th>\n",
       "      <th>salary</th>\n",
       "      <th>salary_in_usd</th>\n",
       "      <th>employee_residence</th>\n",
       "      <th>experience_level</th>\n",
       "      <th>employment_type</th>\n",
       "      <th>work_setting</th>\n",
       "      <th>company_location</th>\n",
       "      <th>company_size</th>\n",
       "    </tr>\n",
       "  </thead>\n",
       "  <tbody>\n",
       "    <tr>\n",
       "      <th>3</th>\n",
       "      <td>2023</td>\n",
       "      <td>Data Scientist</td>\n",
       "      <td>Data Science and Research</td>\n",
       "      <td>USD</td>\n",
       "      <td>212000</td>\n",
       "      <td>212000</td>\n",
       "      <td>United States</td>\n",
       "      <td>Senior</td>\n",
       "      <td>Full-time</td>\n",
       "      <td>In-person</td>\n",
       "      <td>United States</td>\n",
       "      <td>M</td>\n",
       "    </tr>\n",
       "    <tr>\n",
       "      <th>4</th>\n",
       "      <td>2023</td>\n",
       "      <td>Data Scientist</td>\n",
       "      <td>Data Science and Research</td>\n",
       "      <td>USD</td>\n",
       "      <td>93300</td>\n",
       "      <td>93300</td>\n",
       "      <td>United States</td>\n",
       "      <td>Senior</td>\n",
       "      <td>Full-time</td>\n",
       "      <td>In-person</td>\n",
       "      <td>United States</td>\n",
       "      <td>M</td>\n",
       "    </tr>\n",
       "    <tr>\n",
       "      <th>5</th>\n",
       "      <td>2023</td>\n",
       "      <td>Data Scientist</td>\n",
       "      <td>Data Science and Research</td>\n",
       "      <td>USD</td>\n",
       "      <td>130000</td>\n",
       "      <td>130000</td>\n",
       "      <td>United States</td>\n",
       "      <td>Senior</td>\n",
       "      <td>Full-time</td>\n",
       "      <td>Remote</td>\n",
       "      <td>United States</td>\n",
       "      <td>M</td>\n",
       "    </tr>\n",
       "    <tr>\n",
       "      <th>6</th>\n",
       "      <td>2023</td>\n",
       "      <td>Data Scientist</td>\n",
       "      <td>Data Science and Research</td>\n",
       "      <td>USD</td>\n",
       "      <td>100000</td>\n",
       "      <td>100000</td>\n",
       "      <td>United States</td>\n",
       "      <td>Senior</td>\n",
       "      <td>Full-time</td>\n",
       "      <td>Remote</td>\n",
       "      <td>United States</td>\n",
       "      <td>M</td>\n",
       "    </tr>\n",
       "    <tr>\n",
       "      <th>9</th>\n",
       "      <td>2023</td>\n",
       "      <td>Data Engineer</td>\n",
       "      <td>Data Engineering</td>\n",
       "      <td>USD</td>\n",
       "      <td>210000</td>\n",
       "      <td>210000</td>\n",
       "      <td>United States</td>\n",
       "      <td>Executive</td>\n",
       "      <td>Full-time</td>\n",
       "      <td>Remote</td>\n",
       "      <td>United States</td>\n",
       "      <td>M</td>\n",
       "    </tr>\n",
       "  </tbody>\n",
       "</table>\n",
       "</div>"
      ],
      "text/plain": [
       "   work_year       job_title               job_category salary_currency  \\\n",
       "3       2023  Data Scientist  Data Science and Research             USD   \n",
       "4       2023  Data Scientist  Data Science and Research             USD   \n",
       "5       2023  Data Scientist  Data Science and Research             USD   \n",
       "6       2023  Data Scientist  Data Science and Research             USD   \n",
       "9       2023   Data Engineer           Data Engineering             USD   \n",
       "\n",
       "   salary  salary_in_usd employee_residence experience_level employment_type  \\\n",
       "3  212000         212000      United States           Senior       Full-time   \n",
       "4   93300          93300      United States           Senior       Full-time   \n",
       "5  130000         130000      United States           Senior       Full-time   \n",
       "6  100000         100000      United States           Senior       Full-time   \n",
       "9  210000         210000      United States        Executive       Full-time   \n",
       "\n",
       "  work_setting company_location company_size  \n",
       "3    In-person    United States            M  \n",
       "4    In-person    United States            M  \n",
       "5       Remote    United States            M  \n",
       "6       Remote    United States            M  \n",
       "9       Remote    United States            M  "
      ]
     },
     "execution_count": 13,
     "metadata": {},
     "output_type": "execute_result"
    }
   ],
   "source": [
    "file_path = r'C:\\Users\\qaism\\OneDrive - University of Virginia\\Documents\\GitHub\\MSDS\\DS 6001\\jobs_in_data.csv'\n",
    "jobs = pd.read_csv(file_path)\n",
    "# Filter the dataset for the years 2022 and 2023\n",
    "filtered_jobs = jobs[jobs['work_year'].isin([2022, 2023])]\n",
    "\n",
    "# Filter the dataset for the specified job titles\n",
    "job_titles = ['Data Analyst', 'Data Engineer', 'Data Scientist', 'Machine Learning Engineer']\n",
    "filtered_jobs = filtered_jobs[filtered_jobs['job_title'].isin(job_titles)]\n",
    "filtered_jobs.head()"
   ]
  },
  {
   "cell_type": "markdown",
   "metadata": {},
   "source": [
    "Now, I need to group the filtered data by 'work_year' and 'job_title', and then calculate the average salary for each combination. I also need to pivot the table so that the years are columns and the job titles are rows. The table should show the average salaries for each job title and year."
   ]
  },
  {
   "cell_type": "code",
   "execution_count": 14,
   "metadata": {},
   "outputs": [
    {
     "data": {
      "text/html": [
       "<div>\n",
       "<style scoped>\n",
       "    .dataframe tbody tr th:only-of-type {\n",
       "        vertical-align: middle;\n",
       "    }\n",
       "\n",
       "    .dataframe tbody tr th {\n",
       "        vertical-align: top;\n",
       "    }\n",
       "\n",
       "    .dataframe thead th {\n",
       "        text-align: right;\n",
       "    }\n",
       "</style>\n",
       "<table border=\"1\" class=\"dataframe\">\n",
       "  <thead>\n",
       "    <tr style=\"text-align: right;\">\n",
       "      <th></th>\n",
       "      <th>Job Title</th>\n",
       "      <th>2022</th>\n",
       "      <th>2023</th>\n",
       "    </tr>\n",
       "  </thead>\n",
       "  <tbody>\n",
       "    <tr>\n",
       "      <th>0</th>\n",
       "      <td>Data Analyst</td>\n",
       "      <td>108658.0</td>\n",
       "      <td>110988.0</td>\n",
       "    </tr>\n",
       "    <tr>\n",
       "      <th>1</th>\n",
       "      <td>Data Engineer</td>\n",
       "      <td>139803.0</td>\n",
       "      <td>149945.0</td>\n",
       "    </tr>\n",
       "    <tr>\n",
       "      <th>2</th>\n",
       "      <td>Data Scientist</td>\n",
       "      <td>138529.0</td>\n",
       "      <td>163714.0</td>\n",
       "    </tr>\n",
       "    <tr>\n",
       "      <th>3</th>\n",
       "      <td>Machine Learning Engineer</td>\n",
       "      <td>151775.0</td>\n",
       "      <td>191026.0</td>\n",
       "    </tr>\n",
       "  </tbody>\n",
       "</table>\n",
       "</div>"
      ],
      "text/plain": [
       "                   Job Title      2022      2023\n",
       "0               Data Analyst  108658.0  110988.0\n",
       "1              Data Engineer  139803.0  149945.0\n",
       "2             Data Scientist  138529.0  163714.0\n",
       "3  Machine Learning Engineer  151775.0  191026.0"
      ]
     },
     "execution_count": 14,
     "metadata": {},
     "output_type": "execute_result"
    }
   ],
   "source": [
    "# Group by 'work_year' and 'job_title', then calculate the average salary_in_usd\n",
    "average_salaries = filtered_jobs.groupby(['work_year', 'job_title'])['salary_in_usd'].mean().round().reset_index()\n",
    "\n",
    "# Pivot the table to have years as columns and job titles as rows\n",
    "pivot_table = average_salaries.pivot(index='job_title', columns='work_year', values='salary_in_usd').reset_index()\n",
    "\n",
    "# Rename the columns for clarity\n",
    "pivot_table.columns = ['Job Title', '2022', '2023']\n",
    "\n",
    "# Display the resulting pivot table\n",
    "pivot_table"
   ]
  },
  {
   "cell_type": "markdown",
   "metadata": {},
   "source": [
    "**Part B**\n",
    "Using ChatGPT for data wrangling can be highly beneficial in scenarios where quick guidance and snippets are needed to handle common manipulation tasks. It excels in helping with syntax, explaining functions, and offering step-by-step instructions. This can speed up the learning process and improve productivity for anyone who is familiar with the basics or needs a refresher on correct implementation. However, relying on ChatGPT may not be practical for context-specific data wrangling that requires a deeper understanding of the nuances in the data. ChatGPT's inability to handle real-time data and potential limitations in understanding complex context highlight the need for a balanced approach, combining LLM assistance with human expertise."
   ]
  }
 ],
 "metadata": {
  "kernelspec": {
   "display_name": "myenv",
   "language": "python",
   "name": "python3"
  },
  "language_info": {
   "codemirror_mode": {
    "name": "ipython",
    "version": 3
   },
   "file_extension": ".py",
   "mimetype": "text/x-python",
   "name": "python",
   "nbconvert_exporter": "python",
   "pygments_lexer": "ipython3",
   "version": "3.11.9"
  }
 },
 "nbformat": 4,
 "nbformat_minor": 2
}
