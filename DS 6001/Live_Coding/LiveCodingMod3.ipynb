{
 "cells": [
  {
   "cell_type": "code",
   "execution_count": null,
   "metadata": {},
   "outputs": [],
   "source": [
    "import numpy as np\n",
    "import pandas as pd\n",
    "import dotenv\n",
    "import requests\n",
    "import json\n",
    "import os\n"
   ]
  },
  {
   "cell_type": "code",
   "execution_count": null,
   "metadata": {},
   "outputs": [],
   "source": [
    "url = \"https://httpbin.org/user-agent\"\n",
    "r = requests.get(url)\n",
    "print(r)  \n",
    "myjson = json.loads(r.text)\n",
    "useragent = myjson[\"user-agent\"]\n",
    "headers = {\"User-Agent\": useragent, \"From\": \"qmy6cv@virginia.edu\"}\n"
   ]
  },
  {
   "cell_type": "code",
   "execution_count": null,
   "metadata": {},
   "outputs": [],
   "source": [
    "dotenv.load_dotenv()\n",
    "newskey = os.getenv('newskey')\n"
   ]
  },
  {
   "cell_type": "code",
   "execution_count": null,
   "metadata": {},
   "outputs": [],
   "source": [
    "params = {\"q\": \"Bob Good\", \"apiKey\": newskey}\n",
    "url = \"https://newsapi.org/v2/everything\"\n",
    "r = requests.get(url, headers=headers, params=params)\n",
    "print(r)\n"
   ]
  },
  {
   "cell_type": "code",
   "execution_count": null,
   "metadata": {},
   "outputs": [],
   "source": [
    "print(r.text)  # Print the raw response text to debug\n",
    "myjson = json.loads(r.text)\n",
    "print(myjson)  # Print to check the structure\n",
    "if 'articles' in myjson:\n",
    "    news_df = pd.json_normalize(myjson, record_path=[\"articles\"])\n",
    "    print(news_df.head())\n",
    "else:\n",
    "    print(\"No articles found in the response.\")"
   ]
  },
  {
   "cell_type": "code",
   "execution_count": null,
   "metadata": {},
   "outputs": [],
   "source": [
    "conkey = os.getenv('conkey')\n",
    "root = \"https://api.congress.gov/v3\"\n",
    "endpoint = \"/member\"\n",
    "params = {\"api_key\": conkey, \"format\": \"json\", \"currentMember\": \"true\", \"limit\": 250}\n",
    "r = requests.get(root + endpoint, params=params, headers=headers)\n",
    "print(r) "
   ]
  },
  {
   "cell_type": "code",
   "execution_count": null,
   "metadata": {},
   "outputs": [],
   "source": [
    "members_df = pd.json_normalize(json.loads(r.text), record_path=[\"members\"])\n",
    "bobgoodinfo = members_df.query('state==\"Virginia\" & district==5')\n",
    "bobgood_id = bobgoodinfo[\"bioguideId\"].values[0]\n",
    "print(bobgood_id)"
   ]
  },
  {
   "cell_type": "code",
   "execution_count": null,
   "metadata": {},
   "outputs": [],
   "source": [
    "endpoint = f\"/member/{bobgood_id}/sponsored-legislation\"\n",
    "r = requests.get(root + endpoint, params=params, headers=headers)\n",
    "print(r)  \n",
    "bobgood_bills = pd.json_normalize(json.loads(r.text), record_path=[\"sponsoredLegislation\"])\n",
    "print(bobgood_bills.head())"
   ]
  },
  {
   "cell_type": "code",
   "execution_count": null,
   "metadata": {},
   "outputs": [],
   "source": [
    "bill_titles = bobgood_bills[\"title\"].tolist()\n",
    "print(bill_titles)"
   ]
  },
  {
   "cell_type": "code",
   "execution_count": 1,
   "metadata": {},
   "outputs": [
    {
     "ename": "NameError",
     "evalue": "name 'os' is not defined",
     "output_type": "error",
     "traceback": [
      "\u001b[1;31m---------------------------------------------------------------------------\u001b[0m",
      "\u001b[1;31mNameError\u001b[0m                                 Traceback (most recent call last)",
      "Cell \u001b[1;32mIn[1], line 1\u001b[0m\n\u001b[1;32m----> 1\u001b[0m openkey \u001b[38;5;241m=\u001b[39m \u001b[43mos\u001b[49m\u001b[38;5;241m.\u001b[39mgetenv(\u001b[38;5;124m'\u001b[39m\u001b[38;5;124mopenkey\u001b[39m\u001b[38;5;124m'\u001b[39m)\n\u001b[0;32m      2\u001b[0m root \u001b[38;5;241m=\u001b[39m \u001b[38;5;124m\"\u001b[39m\u001b[38;5;124mhttps://www.opensecrets.org/api\u001b[39m\u001b[38;5;124m\"\u001b[39m\n\u001b[0;32m      3\u001b[0m endpoint \u001b[38;5;241m=\u001b[39m \u001b[38;5;124m\"\u001b[39m\u001b[38;5;124m/?method=getLegislators\u001b[39m\u001b[38;5;124m\"\u001b[39m\n",
      "\u001b[1;31mNameError\u001b[0m: name 'os' is not defined"
     ]
    }
   ],
   "source": [
    "openkey = os.getenv('openkey')\n",
    "root = \"https://www.opensecrets.org/api\"\n",
    "endpoint = \"/?method=getLegislators\"\n",
    "params = {\"apikey\": openkey, \"id\": \"VA\", \"output\": \"json\"}\n",
    "r = requests.get(root + endpoint, params=params, headers=headers)\n",
    "print(r) "
   ]
  }
 ],
 "metadata": {
  "kernelspec": {
   "display_name": "myenv",
   "language": "python",
   "name": "python3"
  },
  "language_info": {
   "codemirror_mode": {
    "name": "ipython",
    "version": 3
   },
   "file_extension": ".py",
   "mimetype": "text/x-python",
   "name": "python",
   "nbconvert_exporter": "python",
   "pygments_lexer": "ipython3",
   "version": "3.11.9"
  }
 },
 "nbformat": 4,
 "nbformat_minor": 2
}
